{
  "cells": [
    {
      "cell_type": "markdown",
      "metadata": {
        "colab_type": "text",
        "id": "view-in-github"
      },
      "source": [
        "<a href=\"https://colab.research.google.com/github/Bast-94/CYBERML-Project/blob/data-set/cyber-ml.ipynb\" target=\"_parent\"><img src=\"https://colab.research.google.com/assets/colab-badge.svg\" alt=\"Open In Colab\"/></a>"
      ]
    },
    {
      "cell_type": "markdown",
      "metadata": {
        "id": "fS_rKeGvnj_D"
      },
      "source": [
        "# Machine Learning for Cyber Security Project"
      ]
    },
    {
      "cell_type": "code",
      "execution_count": 1,
      "metadata": {
        "id": "7TpRUyUNheyM"
      },
      "outputs": [],
      "source": [
        "import pandas as pd\n",
        "import numpy as np\n",
        "import os\n",
        "import sys\n",
        "from mlsecu.anomaly_detection_use_case import *\n",
        "from sklearn.metrics import f1_score, classification_report\n",
        "from sklearn.metrics import confusion_matrix, ConfusionMatrixDisplay\n",
        "import matplotlib.pyplot as plt"
      ]
    },
    {
      "cell_type": "markdown",
      "metadata": {
        "id": "B00IwkH4nfTm"
      },
      "source": [
        "## Prepare Data"
      ]
    },
    {
      "cell_type": "markdown",
      "metadata": {
        "id": "I-a73SXQqwEk"
      },
      "source": [
        "### Loading dataset"
      ]
    },
    {
      "cell_type": "code",
      "execution_count": 5,
      "metadata": {
        "id": "TWPnqowoizKN"
      },
      "outputs": [],
      "source": [
        "dataset_path = './data/SWaT.A3_dataset_Jul 19_labelled.xlsx'\n",
        "df = pd.read_excel(dataset_path, header=1)"
      ]
    },
    {
      "cell_type": "markdown",
      "metadata": {
        "id": "FQpaxNsqq5K1"
      },
      "source": [
        "### Cleaning data"
      ]
    },
    {
      "cell_type": "markdown",
      "metadata": {
        "id": "AVEBkdqAMCqm"
      },
      "source": [
        "In order to work easier on our dataset we need to clean it properly."
      ]
    },
    {
      "cell_type": "code",
      "execution_count": 7,
      "metadata": {
        "colab": {
          "base_uri": "https://localhost:8080/",
          "height": 620
        },
        "id": "XRlbiQrdqtO8",
        "outputId": "8d1f0548-7aee-40e5-d1a4-9ed8ff89334a"
      },
      "outputs": [
        {
          "data": {
            "text/html": [
              "<div>\n",
              "<style scoped>\n",
              "    .dataframe tbody tr th:only-of-type {\n",
              "        vertical-align: middle;\n",
              "    }\n",
              "\n",
              "    .dataframe tbody tr th {\n",
              "        vertical-align: top;\n",
              "    }\n",
              "\n",
              "    .dataframe thead th {\n",
              "        text-align: right;\n",
              "    }\n",
              "</style>\n",
              "<table border=\"1\" class=\"dataframe\">\n",
              "  <thead>\n",
              "    <tr style=\"text-align: right;\">\n",
              "      <th></th>\n",
              "      <th>Date</th>\n",
              "      <th>Attack</th>\n",
              "      <th>Label</th>\n",
              "      <th>FIT 101</th>\n",
              "      <th>LIT 101</th>\n",
              "      <th>MV 101</th>\n",
              "      <th>P1_STATE</th>\n",
              "      <th>P101 Status</th>\n",
              "      <th>P102 Status</th>\n",
              "      <th>AIT 201</th>\n",
              "      <th>...</th>\n",
              "      <th>LSH 601</th>\n",
              "      <th>LSH 602</th>\n",
              "      <th>LSH 603</th>\n",
              "      <th>LSL 601</th>\n",
              "      <th>LSL 602</th>\n",
              "      <th>LSL 603</th>\n",
              "      <th>P6 STATE</th>\n",
              "      <th>P601 Status</th>\n",
              "      <th>P602 Status</th>\n",
              "      <th>P603 Status</th>\n",
              "    </tr>\n",
              "  </thead>\n",
              "  <tbody>\n",
              "    <tr>\n",
              "      <th>0</th>\n",
              "      <td>2019-07-20 04:30:00+00:00</td>\n",
              "      <td>benign</td>\n",
              "      <td>0</td>\n",
              "      <td>0</td>\n",
              "      <td>729.8658</td>\n",
              "      <td>1</td>\n",
              "      <td>3</td>\n",
              "      <td>2</td>\n",
              "      <td>1</td>\n",
              "      <td>142.527557</td>\n",
              "      <td>...</td>\n",
              "      <td>{u'IsSystem': False, u'Name': u'Active', u'Val...</td>\n",
              "      <td>{u'IsSystem': False, u'Name': u'Active', u'Val...</td>\n",
              "      <td>{u'IsSystem': False, u'Name': u'Inactive', u'V...</td>\n",
              "      <td>{u'IsSystem': False, u'Name': u'Inactive', u'V...</td>\n",
              "      <td>{u'IsSystem': False, u'Name': u'Inactive', u'V...</td>\n",
              "      <td>{u'IsSystem': False, u'Name': u'Active', u'Val...</td>\n",
              "      <td>2</td>\n",
              "      <td>1</td>\n",
              "      <td>1</td>\n",
              "      <td>1</td>\n",
              "    </tr>\n",
              "    <tr>\n",
              "      <th>1</th>\n",
              "      <td>2019-07-20 04:30:01+00:00</td>\n",
              "      <td>benign</td>\n",
              "      <td>0</td>\n",
              "      <td>0</td>\n",
              "      <td>729.434</td>\n",
              "      <td>1</td>\n",
              "      <td>3</td>\n",
              "      <td>2</td>\n",
              "      <td>1</td>\n",
              "      <td>142.527557</td>\n",
              "      <td>...</td>\n",
              "      <td>{u'IsSystem': False, u'Name': u'Active', u'Val...</td>\n",
              "      <td>{u'IsSystem': False, u'Name': u'Active', u'Val...</td>\n",
              "      <td>{u'IsSystem': False, u'Name': u'Inactive', u'V...</td>\n",
              "      <td>{u'IsSystem': False, u'Name': u'Inactive', u'V...</td>\n",
              "      <td>{u'IsSystem': False, u'Name': u'Inactive', u'V...</td>\n",
              "      <td>{u'IsSystem': False, u'Name': u'Active', u'Val...</td>\n",
              "      <td>2</td>\n",
              "      <td>1</td>\n",
              "      <td>1</td>\n",
              "      <td>1</td>\n",
              "    </tr>\n",
              "    <tr>\n",
              "      <th>2</th>\n",
              "      <td>2019-07-20 04:30:02.004013+00:00</td>\n",
              "      <td>benign</td>\n",
              "      <td>0</td>\n",
              "      <td>0</td>\n",
              "      <td>729.12</td>\n",
              "      <td>1</td>\n",
              "      <td>3</td>\n",
              "      <td>2</td>\n",
              "      <td>1</td>\n",
              "      <td>142.527557</td>\n",
              "      <td>...</td>\n",
              "      <td>{u'IsSystem': False, u'Name': u'Active', u'Val...</td>\n",
              "      <td>{u'IsSystem': False, u'Name': u'Active', u'Val...</td>\n",
              "      <td>{u'IsSystem': False, u'Name': u'Inactive', u'V...</td>\n",
              "      <td>{u'IsSystem': False, u'Name': u'Inactive', u'V...</td>\n",
              "      <td>{u'IsSystem': False, u'Name': u'Inactive', u'V...</td>\n",
              "      <td>{u'IsSystem': False, u'Name': u'Active', u'Val...</td>\n",
              "      <td>2</td>\n",
              "      <td>1</td>\n",
              "      <td>1</td>\n",
              "      <td>1</td>\n",
              "    </tr>\n",
              "    <tr>\n",
              "      <th>3</th>\n",
              "      <td>2019-07-20 04:30:03.004013+00:00</td>\n",
              "      <td>benign</td>\n",
              "      <td>0</td>\n",
              "      <td>0</td>\n",
              "      <td>728.6882</td>\n",
              "      <td>1</td>\n",
              "      <td>3</td>\n",
              "      <td>2</td>\n",
              "      <td>1</td>\n",
              "      <td>142.527557</td>\n",
              "      <td>...</td>\n",
              "      <td>{u'IsSystem': False, u'Name': u'Active', u'Val...</td>\n",
              "      <td>{u'IsSystem': False, u'Name': u'Active', u'Val...</td>\n",
              "      <td>{u'IsSystem': False, u'Name': u'Inactive', u'V...</td>\n",
              "      <td>{u'IsSystem': False, u'Name': u'Inactive', u'V...</td>\n",
              "      <td>{u'IsSystem': False, u'Name': u'Inactive', u'V...</td>\n",
              "      <td>{u'IsSystem': False, u'Name': u'Active', u'Val...</td>\n",
              "      <td>2</td>\n",
              "      <td>1</td>\n",
              "      <td>1</td>\n",
              "      <td>1</td>\n",
              "    </tr>\n",
              "    <tr>\n",
              "      <th>4</th>\n",
              "      <td>2019-07-20 04:30:04+00:00</td>\n",
              "      <td>benign</td>\n",
              "      <td>0</td>\n",
              "      <td>0</td>\n",
              "      <td>727.7069</td>\n",
              "      <td>1</td>\n",
              "      <td>3</td>\n",
              "      <td>2</td>\n",
              "      <td>1</td>\n",
              "      <td>142.527557</td>\n",
              "      <td>...</td>\n",
              "      <td>{u'IsSystem': False, u'Name': u'Active', u'Val...</td>\n",
              "      <td>{u'IsSystem': False, u'Name': u'Active', u'Val...</td>\n",
              "      <td>{u'IsSystem': False, u'Name': u'Inactive', u'V...</td>\n",
              "      <td>{u'IsSystem': False, u'Name': u'Inactive', u'V...</td>\n",
              "      <td>{u'IsSystem': False, u'Name': u'Inactive', u'V...</td>\n",
              "      <td>{u'IsSystem': False, u'Name': u'Active', u'Val...</td>\n",
              "      <td>2</td>\n",
              "      <td>1</td>\n",
              "      <td>1</td>\n",
              "      <td>1</td>\n",
              "    </tr>\n",
              "  </tbody>\n",
              "</table>\n",
              "<p>5 rows × 80 columns</p>\n",
              "</div>"
            ],
            "text/plain": [
              "                              Date  Attack  Label FIT 101   LIT 101 MV 101  \\\n",
              "0        2019-07-20 04:30:00+00:00  benign      0       0  729.8658      1   \n",
              "1        2019-07-20 04:30:01+00:00  benign      0       0   729.434      1   \n",
              "2 2019-07-20 04:30:02.004013+00:00  benign      0       0    729.12      1   \n",
              "3 2019-07-20 04:30:03.004013+00:00  benign      0       0  728.6882      1   \n",
              "4        2019-07-20 04:30:04+00:00  benign      0       0  727.7069      1   \n",
              "\n",
              "  P1_STATE P101 Status P102 Status     AIT 201  ...  \\\n",
              "0        3           2           1  142.527557  ...   \n",
              "1        3           2           1  142.527557  ...   \n",
              "2        3           2           1  142.527557  ...   \n",
              "3        3           2           1  142.527557  ...   \n",
              "4        3           2           1  142.527557  ...   \n",
              "\n",
              "                                             LSH 601  \\\n",
              "0  {u'IsSystem': False, u'Name': u'Active', u'Val...   \n",
              "1  {u'IsSystem': False, u'Name': u'Active', u'Val...   \n",
              "2  {u'IsSystem': False, u'Name': u'Active', u'Val...   \n",
              "3  {u'IsSystem': False, u'Name': u'Active', u'Val...   \n",
              "4  {u'IsSystem': False, u'Name': u'Active', u'Val...   \n",
              "\n",
              "                                             LSH 602  \\\n",
              "0  {u'IsSystem': False, u'Name': u'Active', u'Val...   \n",
              "1  {u'IsSystem': False, u'Name': u'Active', u'Val...   \n",
              "2  {u'IsSystem': False, u'Name': u'Active', u'Val...   \n",
              "3  {u'IsSystem': False, u'Name': u'Active', u'Val...   \n",
              "4  {u'IsSystem': False, u'Name': u'Active', u'Val...   \n",
              "\n",
              "                                             LSH 603  \\\n",
              "0  {u'IsSystem': False, u'Name': u'Inactive', u'V...   \n",
              "1  {u'IsSystem': False, u'Name': u'Inactive', u'V...   \n",
              "2  {u'IsSystem': False, u'Name': u'Inactive', u'V...   \n",
              "3  {u'IsSystem': False, u'Name': u'Inactive', u'V...   \n",
              "4  {u'IsSystem': False, u'Name': u'Inactive', u'V...   \n",
              "\n",
              "                                             LSL 601  \\\n",
              "0  {u'IsSystem': False, u'Name': u'Inactive', u'V...   \n",
              "1  {u'IsSystem': False, u'Name': u'Inactive', u'V...   \n",
              "2  {u'IsSystem': False, u'Name': u'Inactive', u'V...   \n",
              "3  {u'IsSystem': False, u'Name': u'Inactive', u'V...   \n",
              "4  {u'IsSystem': False, u'Name': u'Inactive', u'V...   \n",
              "\n",
              "                                             LSL 602  \\\n",
              "0  {u'IsSystem': False, u'Name': u'Inactive', u'V...   \n",
              "1  {u'IsSystem': False, u'Name': u'Inactive', u'V...   \n",
              "2  {u'IsSystem': False, u'Name': u'Inactive', u'V...   \n",
              "3  {u'IsSystem': False, u'Name': u'Inactive', u'V...   \n",
              "4  {u'IsSystem': False, u'Name': u'Inactive', u'V...   \n",
              "\n",
              "                                             LSL 603 P6 STATE P601 Status  \\\n",
              "0  {u'IsSystem': False, u'Name': u'Active', u'Val...        2           1   \n",
              "1  {u'IsSystem': False, u'Name': u'Active', u'Val...        2           1   \n",
              "2  {u'IsSystem': False, u'Name': u'Active', u'Val...        2           1   \n",
              "3  {u'IsSystem': False, u'Name': u'Active', u'Val...        2           1   \n",
              "4  {u'IsSystem': False, u'Name': u'Active', u'Val...        2           1   \n",
              "\n",
              "  P602 Status P603 Status  \n",
              "0           1           1  \n",
              "1           1           1  \n",
              "2           1           1  \n",
              "3           1           1  \n",
              "4           1           1  \n",
              "\n",
              "[5 rows x 80 columns]"
            ]
          },
          "execution_count": 7,
          "metadata": {},
          "output_type": "execute_result"
        }
      ],
      "source": [
        "full_df = df.drop([0])\n",
        "full_df = full_df.reset_index(drop=True)\n",
        "full_df = full_df.rename(columns={'GMT +0':'Date'})\n",
        "full_df['Attack'] = full_df['Attack'].fillna('benign')\n",
        "full_df['Label'] = full_df['Label'].fillna(0).astype(int)\n",
        "full_df['Date'] = pd.to_datetime(full_df['Date'], format='ISO8601')\n",
        "full_df.to_csv('./data/SWaT.A3_dataset_Jul_19_labelled.csv')\n",
        "full_df.head()"
      ]
    },
    {
      "cell_type": "markdown",
      "metadata": {
        "id": "aTtfq33xIbXs"
      },
      "source": [
        "## Outlier detection with Isolation forest."
      ]
    },
    {
      "cell_type": "markdown",
      "metadata": {
        "id": "XhNYleZlIt1k"
      },
      "source": [
        "Firstly we need to retrieve columns list which contain categorical data by checking if they do not contain float value or datetime."
      ]
    },
    {
      "cell_type": "code",
      "execution_count": 8,
      "metadata": {
        "colab": {
          "base_uri": "https://localhost:8080/"
        },
        "id": "A8gQ8miz--34",
        "outputId": "e73d58ac-1f0a-497b-803a-2ea53392b16c"
      },
      "outputs": [],
      "source": [
        "is_float = lambda x: isinstance(x, float)\n",
        "for col in full_df.columns:\n",
        "  if col == 'Date':\n",
        "    continue\n",
        "\n",
        "  if full_df[col].apply(pd.to_numeric, errors='coerce').notna().all():\n",
        "    full_df[col] = full_df[col].apply(pd.to_numeric, errors='coerce')"
      ]
    },
    {
      "cell_type": "markdown",
      "metadata": {
        "id": "55rQYHSyJRkh"
      },
      "source": [
        "Isolation forest Algorithm is applied on categorical data with precising an `outliers_fraction` which represent the outlier rate in our dataset. To do so we just need to get the total count of attacks (labelled 1 data) and divide it by the total count.\n",
        "\n",
        "With `get_list_of_if_outliers` implemented in previous practical sessions, we apply Isolation forest algorithm on categroical data. Then we will retrieve outliers indexes."
      ]
    },
    {
      "cell_type": "code",
      "execution_count": 9,
      "metadata": {
        "id": "ZqHbai8C92IV"
      },
      "outputs": [],
      "source": [
        "outlier_fraction = (full_df['Label'] == 1).sum() / len(full_df)\n",
        "outlier_columns = ['FIT 401', 'LIT 301', 'P601 Status', 'MV201', 'P101 Status', 'MV 501', 'P301 Status']\n",
        "categorical_columns = get_object_column_names(full_df)\n",
        "categorical_columns.remove('Attack')\n",
        "categorical_columns.append('Date')\n",
        "if_outlier_indexes = get_list_of_if_outliers(full_df.drop(columns=categorical_columns), outlier_fraction, seed=35)"
      ]
    },
    {
      "cell_type": "markdown",
      "metadata": {
        "id": "muxAS9-EK6Za"
      },
      "source": [
        "Let's compute accuracy by counting predicted outliers which are real outliers."
      ]
    },
    {
      "cell_type": "code",
      "execution_count": 10,
      "metadata": {
        "colab": {
          "base_uri": "https://localhost:8080/"
        },
        "id": "h3knyTeFFYeT",
        "outputId": "ca56fe67-24b0-406d-ea8f-07eb4d01a6fc"
      },
      "outputs": [
        {
          "name": "stdout",
          "output_type": "stream",
          "text": [
            "1393 outliers found with Isolation Forest are labeled as attacks\n"
          ]
        }
      ],
      "source": [
        "if_outliers = np.zeros(len(full_df))\n",
        "if_outliers[if_outlier_indexes] = 1\n",
        "full_df['if_outliers'] = if_outliers\n",
        "\n",
        "attack_if_outliers = full_df[(full_df['if_outliers'] == 1) & (full_df['Label'] == 1)]\n",
        "if_outliers_matches = len(attack_if_outliers)\n",
        "print(f'{if_outliers_matches} outliers found with Isolation Forest are labeled as attacks')"
      ]
    },
    {
      "cell_type": "markdown",
      "metadata": {
        "id": "_7ZVCTf9LXEI"
      },
      "source": [
        "Then we compute F1 Score"
      ]
    },
    {
      "cell_type": "code",
      "execution_count": 11,
      "metadata": {
        "colab": {
          "base_uri": "https://localhost:8080/"
        },
        "id": "D9kjWrz3Gy6d",
        "outputId": "9eb2fbe4-7b67-426a-eca0-99c618f0664e"
      },
      "outputs": [
        {
          "name": "stdout",
          "output_type": "stream",
          "text": [
            "              precision    recall  f1-score   support\n",
            "\n",
            "         0.0       0.91      0.91      0.91     12443\n",
            "         1.0       0.55      0.55      0.55      2553\n",
            "\n",
            "    accuracy                           0.85     14996\n",
            "   macro avg       0.73      0.73      0.73     14996\n",
            "weighted avg       0.85      0.85      0.85     14996\n",
            "\n"
          ]
        }
      ],
      "source": [
        "print(classification_report(full_df['if_outliers'], full_df['Label']))"
      ]
    },
    {
      "cell_type": "markdown",
      "metadata": {},
      "source": [
        "Let's now display confusion matrix."
      ]
    },
    {
      "cell_type": "code",
      "execution_count": 33,
      "metadata": {},
      "outputs": [
        {
          "data": {
            "image/png": "[encoded data removed]",
            "text/plain": [
              "<Figure size 640x480 with 2 Axes>"
            ]
          },
          "metadata": {},
          "output_type": "display_data"
        }
      ],
      "source": [
        "\n",
        "cm = confusion_matrix(full_df['if_outliers'], full_df['Label'],normalize='true')\n",
        "disp = ConfusionMatrixDisplay(confusion_matrix=cm, display_labels=['benign', 'attack'])\n",
        "disp.plot()\n",
        "plt.title('Isolation Forest confusion matrix')\n",
        "plt.show()"
      ]
    },
    {
      "cell_type": "markdown",
      "metadata": {
        "id": "Gre5USljLevL"
      },
      "source": [
        "From the results, we can see that the Isolation Forest algorithm is not much sensitive nor precise when detecting outliers."
      ]
    },
    {
      "cell_type": "code",
      "execution_count": 12,
      "metadata": {
        "id": "orTqxNAGIg6U"
      },
      "outputs": [],
      "source": [
        "full_df.to_csv('./data/clean_swat.csv')"
      ]
    },
    {
      "cell_type": "markdown",
      "metadata": {},
      "source": [
        "## Outlier detection with LocalOutlierFactor"
      ]
    },
    {
      "cell_type": "code",
      "execution_count": 13,
      "metadata": {},
      "outputs": [],
      "source": [
        "local_factor_outliers_indices = get_list_of_lof_outliers(full_df.drop(columns=categorical_columns), outlier_fraction)\n",
        "\n",
        "lof_outliers = np.zeros(len(full_df))\n",
        "lof_outliers[local_factor_outliers_indices] = 1\n",
        "full_df['lof_outliers'] = lof_outliers"
      ]
    },
    {
      "cell_type": "code",
      "execution_count": 14,
      "metadata": {},
      "outputs": [
        {
          "name": "stdout",
          "output_type": "stream",
          "text": [
            "604 outliers found with Local Outlier Factor are labeled as attacks\n"
          ]
        }
      ],
      "source": [
        "attack_lof_outliers = full_df[(full_df['lof_outliers'] == 1) & (full_df['Label'] == 1)]\n",
        "lof_outliers_matches = len(attack_lof_outliers)\n",
        "print(f'{lof_outliers_matches} outliers found with Local Outlier Factor are labeled as attacks')"
      ]
    },
    {
      "cell_type": "code",
      "execution_count": 15,
      "metadata": {},
      "outputs": [
        {
          "name": "stdout",
          "output_type": "stream",
          "text": [
            "              precision    recall  f1-score   support\n",
            "\n",
            "         0.0       0.84      0.84      0.84     12443\n",
            "         1.0       0.24      0.24      0.24      2553\n",
            "\n",
            "    accuracy                           0.74     14996\n",
            "   macro avg       0.54      0.54      0.54     14996\n",
            "weighted avg       0.74      0.74      0.74     14996\n",
            "\n"
          ]
        }
      ],
      "source": [
        "print(classification_report(full_df['lof_outliers'], full_df['Label']))"
      ]
    },
    {
      "cell_type": "markdown",
      "metadata": {},
      "source": [
        "Now we display the confusion matrix."
      ]
    },
    {
      "cell_type": "code",
      "execution_count": 32,
      "metadata": {},
      "outputs": [
        {
          "data": {
            "image/png": "[encoded data removed]",
            "text/plain": [
              "<Figure size 640x480 with 2 Axes>"
            ]
          },
          "metadata": {},
          "output_type": "display_data"
        }
      ],
      "source": [
        "cm = confusion_matrix(full_df['lof_outliers'], full_df['Label'],normalize='true')\n",
        "disp = ConfusionMatrixDisplay(confusion_matrix=cm, display_labels=['benign', 'attack'])\n",
        "disp.plot()\n",
        "plt.title('Local Outlier Factor confusion matrix')\n",
        "plt.show()"
      ]
    },
    {
      "cell_type": "markdown",
      "metadata": {},
      "source": [
        "In comparison, as we can see from this report, LocalOutlierFactor algorithm is even less sensitive than the Isolation Forest algorithm.\\\n",
        "We can assume that an unsupervised algorithm may not be the best choice for this dataset."
      ]
    },
    {
      "cell_type": "markdown",
      "metadata": {},
      "source": [
        "## Classification"
      ]
    },
    {
      "cell_type": "markdown",
      "metadata": {},
      "source": [
        "### Data preparation"
      ]
    },
    {
      "cell_type": "code",
      "execution_count": 17,
      "metadata": {},
      "outputs": [],
      "source": [
        "from sklearn.tree import DecisionTreeClassifier\n",
        "from sklearn.ensemble import RandomForestClassifier\n",
        "from sklearn.neural_network import MLPClassifier\n",
        "from sklearn.model_selection import train_test_split\n",
        "from xgboost import XGBClassifier"
      ]
    },
    {
      "cell_type": "code",
      "execution_count": 18,
      "metadata": {},
      "outputs": [],
      "source": [
        "seed: int = 42\n",
        "one_hot_encoded_df = get_one_hot_encoded_dataframe(full_df.drop(columns=categorical_columns))\n",
        "no_nan_df = remove_nan_through_mean_imputation(one_hot_encoded_df)"
      ]
    },
    {
      "cell_type": "markdown",
      "metadata": {},
      "source": [
        "### Random Forest Classifier"
      ]
    },
    {
      "cell_type": "code",
      "execution_count": 19,
      "metadata": {},
      "outputs": [
        {
          "name": "stdout",
          "output_type": "stream",
          "text": [
            "              precision    recall  f1-score   support\n",
            "\n",
            "           0       1.00      1.00      1.00      2516\n",
            "           1       1.00      1.00      1.00       484\n",
            "\n",
            "    accuracy                           1.00      3000\n",
            "   macro avg       1.00      1.00      1.00      3000\n",
            "weighted avg       1.00      1.00      1.00      3000\n",
            "\n"
          ]
        }
      ],
      "source": [
        "random_forest = RandomForestClassifier(\n",
        "    n_estimators=512,\n",
        "    max_depth=128,\n",
        "    max_leaf_nodes=256,\n",
        "    max_features='sqrt',\n",
        "    random_state=seed\n",
        ")\n",
        "\n",
        "X_train, X_test, y_train, y_test = train_test_split(no_nan_df, no_nan_df['Label'], test_size=0.2, random_state=seed)\n",
        "random_forest.fit(X_train, y_train)\n",
        "\n",
        "y_pred = random_forest.predict(X_test)\n",
        "print(classification_report(y_test, y_pred))"
      ]
    },
    {
      "cell_type": "markdown",
      "metadata": {},
      "source": [
        "### Decision Tree Classifier"
      ]
    },
    {
      "cell_type": "code",
      "execution_count": 20,
      "metadata": {},
      "outputs": [],
      "source": [
        "# TODO"
      ]
    },
    {
      "cell_type": "markdown",
      "metadata": {},
      "source": [
        "### XGBoost Classifier"
      ]
    },
    {
      "cell_type": "code",
      "execution_count": 21,
      "metadata": {},
      "outputs": [],
      "source": [
        "# TODO"
      ]
    },
    {
      "cell_type": "markdown",
      "metadata": {},
      "source": [
        "### Multi-layer Perceptron Classifier"
      ]
    },
    {
      "cell_type": "code",
      "execution_count": 22,
      "metadata": {},
      "outputs": [],
      "source": [
        "# TODO"
      ]
    }
  ],
  "metadata": {
    "colab": {
      "authorship_tag": "ABX9TyP8JWcD03jkl5wGOLoLnCJP",
      "include_colab_link": true,
      "mount_file_id": "https://github.com/Bast-94/CYBERML-Project/blob/data-set/cyber-ml.ipynb",
      "provenance": []
    },
    "kernelspec": {
      "display_name": "Python 3",
      "name": "python3"
    },
    "language_info": {
      "codemirror_mode": {
        "name": "ipython",
        "version": 3
      },
      "file_extension": ".py",
      "mimetype": "text/x-python",
      "name": "python",
      "nbconvert_exporter": "python",
      "pygments_lexer": "ipython3",
      "version": "3.10.8"
    }
  },
  "nbformat": 4,
  "nbformat_minor": 0
}
