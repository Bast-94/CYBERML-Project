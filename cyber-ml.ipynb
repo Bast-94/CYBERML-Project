{
  "cells": [
    {
      "cell_type": "markdown",
      "metadata": {
        "colab_type": "text",
        "id": "view-in-github"
      },
      "source": [
        "<a href=\"https://colab.research.google.com/github/Bast-94/CYBERML-Project/blob/data-set/cyber-ml.ipynb\" target=\"_parent\"><img src=\"https://colab.research.google.com/assets/colab-badge.svg\" alt=\"Open In Colab\"/></a>"
      ]
    },
    {
      "cell_type": "markdown",
      "metadata": {
        "id": "fS_rKeGvnj_D"
      },
      "source": [
        "# Machine Learning for Cyber Security Project"
      ]
    },
    {
      "cell_type": "code",
      "execution_count": null,
      "metadata": {
        "id": "7TpRUyUNheyM"
      },
      "outputs": [],
      "source": [
        "import pandas as pd\n",
        "import numpy as np\n",
        "import os\n",
        "import sys\n",
        "from mlsecu.anomaly_detection_use_case import *\n",
        "from sklearn.metrics import f1_score, classification_report"
      ]
    },
    {
      "cell_type": "markdown",
      "metadata": {
        "id": "B00IwkH4nfTm"
      },
      "source": [
        "## Prepare Data"
      ]
    },
    {
      "cell_type": "markdown",
      "metadata": {
        "id": "I-a73SXQqwEk"
      },
      "source": [
        "### Loading dataset"
      ]
    },
    {
      "cell_type": "code",
      "execution_count": null,
      "metadata": {
        "id": "TWPnqowoizKN"
      },
      "outputs": [],
      "source": [
        "dataset_path = './data/SWaT.A3_dataset_Jul 19_labelled.xlsx'\n",
        "df = pd.read_excel(dataset_path, header=1)"
      ]
    },
    {
      "cell_type": "markdown",
      "metadata": {
        "id": "FQpaxNsqq5K1"
      },
      "source": [
        "### Cleaning data"
      ]
    },
    {
      "cell_type": "markdown",
      "metadata": {
        "id": "AVEBkdqAMCqm"
      },
      "source": [
        "In order to work easier on our dataset we need to clean it properly."
      ]
    },
    {
      "cell_type": "code",
      "execution_count": null,
      "metadata": {
        "colab": {
          "base_uri": "https://localhost:8080/",
          "height": 620
        },
        "id": "XRlbiQrdqtO8",
        "outputId": "8d1f0548-7aee-40e5-d1a4-9ed8ff89334a"
      },
      "outputs": [],
      "source": [
        "full_df = df.drop([0])\n",
        "full_df = full_df.reset_index(drop=True)\n",
        "full_df = full_df.rename(columns={'GMT +0':'Date'})\n",
        "full_df['Attack'] = full_df['Attack'].fillna('benign')\n",
        "full_df['Label'] = full_df['Label'].fillna(0).astype(int)\n",
        "full_df['Date'] = pd.to_datetime(full_df['Date'], format='ISO8601')\n",
        "full_df.to_csv('./data/SWaT.A3_dataset_Jul_19_labelled.csv')\n",
        "full_df.head()"
      ]
    },
    {
      "cell_type": "markdown",
      "metadata": {
        "id": "aTtfq33xIbXs"
      },
      "source": [
        "## Outlier detection with Isolation forest."
      ]
    },
    {
      "cell_type": "markdown",
      "metadata": {
        "id": "XhNYleZlIt1k"
      },
      "source": [
        "Firstly we need to retrieve columns list which contain categorical data by checking if they do not contain float value or datetime."
      ]
    },
    {
      "cell_type": "code",
      "execution_count": null,
      "metadata": {
        "colab": {
          "base_uri": "https://localhost:8080/"
        },
        "id": "A8gQ8miz--34",
        "outputId": "e73d58ac-1f0a-497b-803a-2ea53392b16c"
      },
      "outputs": [],
      "source": [
        "is_float = lambda x: isinstance(x, float)\n",
        "for col in full_df.columns:\n",
        "  if col == 'Date':\n",
        "    continue\n",
        "\n",
        "  if full_df[col].apply(pd.to_numeric, errors='coerce').notna().all():\n",
        "    full_df[col] = full_df[col].apply(pd.to_numeric, errors='coerce')"
      ]
    },
    {
      "cell_type": "markdown",
      "metadata": {
        "id": "55rQYHSyJRkh"
      },
      "source": [
        "Isolation forest Algorithm is applied on categorical data with precising an `outliers_fraction` which represent the outlier rate in our dataset. To do so we just need to get the total count of attacks (labelled 1 data) and divide it by the total count.\n",
        "\n",
        "With `get_list_of_if_outliers` implemented in previous practical sessions, we apply Isolation forest algorithm on categroical data. Then we will retrieve outliers indexes."
      ]
    },
    {
      "cell_type": "code",
      "execution_count": null,
      "metadata": {
        "id": "ZqHbai8C92IV"
      },
      "outputs": [],
      "source": [
        "outlier_fraction = (full_df['Label'] == 1).sum() / len(full_df)\n",
        "oulier_columns = ['FIT 401', 'LIT 301', 'P601 Status', 'MV201', 'P101 Status', 'MV 501', 'P301 Status']\n",
        "categorical_columns = get_object_column_names(full_df)\n",
        "categorical_columns.remove('Attack')\n",
        "categorical_columns.append('Date')\n",
        "# if_outlier_indexes = get_list_of_if_outliers(full_df.drop(['Date'], axis=1), outlier_fraction, seed=42)\n",
        "if_outlier_indexes = get_list_of_if_outliers(full_df.drop(columns=categorical_columns), outlier_fraction, seed=35)"
      ]
    },
    {
      "cell_type": "markdown",
      "metadata": {
        "id": "muxAS9-EK6Za"
      },
      "source": [
        "Let's compute accuracy by counting predicted outliers which are real outliers."
      ]
    },
    {
      "cell_type": "code",
      "execution_count": null,
      "metadata": {
        "colab": {
          "base_uri": "https://localhost:8080/"
        },
        "id": "h3knyTeFFYeT",
        "outputId": "ca56fe67-24b0-406d-ea8f-07eb4d01a6fc"
      },
      "outputs": [],
      "source": [
        "if_outliers = np.zeros(len(full_df))\n",
        "if_outliers[if_outlier_indexes] = 1\n",
        "full_df['if_outliers'] = if_outliers\n",
        "\n",
        "attack_if_outliers = full_df[(full_df['if_outliers'] == 1) & (full_df['Label'] == 1)]\n",
        "if_outliers_matches = len(attack_if_outliers)\n",
        "print(f'{if_outliers_matches} outliers found with Isolation Forest are labeled as attacks')"
      ]
    },
    {
      "cell_type": "markdown",
      "metadata": {
        "id": "_7ZVCTf9LXEI"
      },
      "source": [
        "Then we compute F1 Score"
      ]
    },
    {
      "cell_type": "code",
      "execution_count": null,
      "metadata": {
        "colab": {
          "base_uri": "https://localhost:8080/"
        },
        "id": "D9kjWrz3Gy6d",
        "outputId": "9eb2fbe4-7b67-426a-eca0-99c618f0664e"
      },
      "outputs": [],
      "source": [
        "print(classification_report(full_df['if_outliers'], full_df['Label']))"
      ]
    },
    {
      "cell_type": "markdown",
      "metadata": {
        "id": "Gre5USljLevL"
      },
      "source": [
        "From the results, we can see that the Isolation Forest algorithm is not much sensitive nor precise when detecting outliers."
      ]
    },
    {
      "cell_type": "code",
      "execution_count": null,
      "metadata": {
        "id": "orTqxNAGIg6U"
      },
      "outputs": [],
      "source": [
        "full_df.to_csv('./data/clean_swat.csv')"
      ]
    },
    {
      "cell_type": "markdown",
      "metadata": {},
      "source": [
        "## Outlier detection with LocalOutlierFactor"
      ]
    },
    {
      "cell_type": "code",
      "execution_count": null,
      "metadata": {},
      "outputs": [],
      "source": [
        "local_factor_outliers_indices = get_list_of_lof_outliers(full_df[oulier_columns], outlier_fraction)\n",
        "\n",
        "lof_outliers = np.zeros(len(full_df))\n",
        "lof_outliers[local_factor_outliers_indices] = 1\n",
        "full_df['lof_outliers'] = lof_outliers"
      ]
    },
    {
      "cell_type": "code",
      "execution_count": null,
      "metadata": {},
      "outputs": [],
      "source": [
        "attack_lof_outliers = full_df[(full_df['lof_outliers'] == 1) & (full_df['Label'] == 1)]\n",
        "lof_outliers_matches = len(attack_lof_outliers)\n",
        "print(f'{lof_outliers_matches} outliers found with Local Outlier Factor are labeled as attacks')"
      ]
    },
    {
      "cell_type": "code",
      "execution_count": null,
      "metadata": {},
      "outputs": [],
      "source": [
        "print(classification_report(full_df['lof_outliers'], full_df['Label']))"
      ]
    },
    {
      "cell_type": "markdown",
      "metadata": {},
      "source": [
        "In comparison, as we can see from this report, LocalOutlierFactor algorithm is even less sensitive than the Isolation Forest algorithm.\\\n",
        "We can assume that an unsupervised algorithm may not be the best choice for this dataset."
      ]
    }
  ],
  "metadata": {
    "colab": {
      "authorship_tag": "ABX9TyP8JWcD03jkl5wGOLoLnCJP",
      "include_colab_link": true,
      "mount_file_id": "https://github.com/Bast-94/CYBERML-Project/blob/data-set/cyber-ml.ipynb",
      "provenance": []
    },
    "kernelspec": {
      "display_name": "Python 3",
      "name": "python3"
    },
    "language_info": {
      "codemirror_mode": {
        "name": "ipython",
        "version": 3
      },
      "file_extension": ".py",
      "mimetype": "text/x-python",
      "name": "python",
      "nbconvert_exporter": "python",
      "pygments_lexer": "ipython3",
      "version": "3.11.4"
    }
  },
  "nbformat": 4,
  "nbformat_minor": 0
}
