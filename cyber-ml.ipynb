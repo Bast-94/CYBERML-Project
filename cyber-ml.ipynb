{
  "nbformat": 4,
  "nbformat_minor": 0,
  "metadata": {
    "colab": {
      "provenance": [],
      "mount_file_id": "https://github.com/Bast-94/CYBERML-Project/blob/data-set/cyber-ml.ipynb",
      "authorship_tag": "ABX9TyP8JWcD03jkl5wGOLoLnCJP",
      "include_colab_link": true
    },
    "kernelspec": {
      "name": "python3",
      "display_name": "Python 3"
    },
    "language_info": {
      "name": "python"
    }
  },
  "cells": [
    {
      "cell_type": "markdown",
      "metadata": {
        "id": "view-in-github",
        "colab_type": "text"
      },
      "source": [
        "<a href=\"https://colab.research.google.com/github/Bast-94/CYBERML-Project/blob/data-set/cyber-ml.ipynb\" target=\"_parent\"><img src=\"https://colab.research.google.com/assets/colab-badge.svg\" alt=\"Open In Colab\"/></a>"
      ]
    },
    {
      "cell_type": "markdown",
      "source": [
        "# Machine Learning for Cyber Security Project"
      ],
      "metadata": {
        "id": "fS_rKeGvnj_D"
      }
    },
    {
      "cell_type": "code",
      "source": [
        "CURRENT_PATH = '/content/drive/MyDrive/cyberml'\n",
        "import pandas as pd\n",
        "import numpy as np\n",
        "import os\n",
        "import sys\n",
        "sys.path.append(CURRENT_PATH)\n",
        "from anomaly_detection_use_case import *"
      ],
      "metadata": {
        "id": "7TpRUyUNheyM"
      },
      "execution_count": 42,
      "outputs": []
    },
    {
      "cell_type": "markdown",
      "source": [
        "## Prepare Data"
      ],
      "metadata": {
        "id": "B00IwkH4nfTm"
      }
    },
    {
      "cell_type": "markdown",
      "source": [
        "### Loading dataset"
      ],
      "metadata": {
        "id": "I-a73SXQqwEk"
      }
    },
    {
      "cell_type": "code",
      "source": [
        "dataset_path = os.path.join(CURRENT_PATH,'SWaT.A3_dataset_Jul_19_labelled.xlsx')\n",
        "df = pd.read_excel(dataset_path,header=1)"
      ],
      "metadata": {
        "id": "TWPnqowoizKN"
      },
      "execution_count": 43,
      "outputs": []
    },
    {
      "cell_type": "markdown",
      "source": [
        "### Cleaning data"
      ],
      "metadata": {
        "id": "FQpaxNsqq5K1"
      }
    },
    {
      "cell_type": "markdown",
      "source": [
        "In order to work easier on our dataset we need to clean it properly."
      ],
      "metadata": {
        "id": "AVEBkdqAMCqm"
      }
    },
    {
      "cell_type": "code",
      "source": [
        "full_df = df.drop([0])\n",
        "full_df = full_df.reset_index(drop=True)\n",
        "full_df = full_df.rename(columns={'GMT +0':'Date'})\n",
        "full_df['Attack'] = full_df['Attack'].fillna('benign')\n",
        "full_df['Label'] = full_df['Label'].fillna(0).astype(int)\n",
        "full_df['Date'] = pd.to_datetime(full_df['Date'])\n",
        "full_df.to_csv('SWaT.A3_dataset_Jul_19_labelled.csv')\n",
        "full_df.head()"
      ],
      "metadata": {
        "colab": {
          "base_uri": "https://localhost:8080/",
          "height": 620
        },
        "id": "XRlbiQrdqtO8",
        "outputId": "8d1f0548-7aee-40e5-d1a4-9ed8ff89334a"
      },
      "execution_count": 44,
      "outputs": [
        {
          "output_type": "execute_result",
          "data": {
            "text/plain": [
              "                              Date  Attack  Label FIT 101   LIT 101 MV 101  \\\n",
              "0        2019-07-20 04:30:00+00:00  benign      0       0  729.8658      1   \n",
              "1        2019-07-20 04:30:01+00:00  benign      0       0   729.434      1   \n",
              "2 2019-07-20 04:30:02.004013+00:00  benign      0       0    729.12      1   \n",
              "3 2019-07-20 04:30:03.004013+00:00  benign      0       0  728.6882      1   \n",
              "4        2019-07-20 04:30:04+00:00  benign      0       0  727.7069      1   \n",
              "\n",
              "  P1_STATE P101 Status P102 Status     AIT 201  ...  \\\n",
              "0        3           2           1  142.527557  ...   \n",
              "1        3           2           1  142.527557  ...   \n",
              "2        3           2           1  142.527557  ...   \n",
              "3        3           2           1  142.527557  ...   \n",
              "4        3           2           1  142.527557  ...   \n",
              "\n",
              "                                             LSH 601  \\\n",
              "0  {u'IsSystem': False, u'Name': u'Active', u'Val...   \n",
              "1  {u'IsSystem': False, u'Name': u'Active', u'Val...   \n",
              "2  {u'IsSystem': False, u'Name': u'Active', u'Val...   \n",
              "3  {u'IsSystem': False, u'Name': u'Active', u'Val...   \n",
              "4  {u'IsSystem': False, u'Name': u'Active', u'Val...   \n",
              "\n",
              "                                             LSH 602  \\\n",
              "0  {u'IsSystem': False, u'Name': u'Active', u'Val...   \n",
              "1  {u'IsSystem': False, u'Name': u'Active', u'Val...   \n",
              "2  {u'IsSystem': False, u'Name': u'Active', u'Val...   \n",
              "3  {u'IsSystem': False, u'Name': u'Active', u'Val...   \n",
              "4  {u'IsSystem': False, u'Name': u'Active', u'Val...   \n",
              "\n",
              "                                             LSH 603  \\\n",
              "0  {u'IsSystem': False, u'Name': u'Inactive', u'V...   \n",
              "1  {u'IsSystem': False, u'Name': u'Inactive', u'V...   \n",
              "2  {u'IsSystem': False, u'Name': u'Inactive', u'V...   \n",
              "3  {u'IsSystem': False, u'Name': u'Inactive', u'V...   \n",
              "4  {u'IsSystem': False, u'Name': u'Inactive', u'V...   \n",
              "\n",
              "                                             LSL 601  \\\n",
              "0  {u'IsSystem': False, u'Name': u'Inactive', u'V...   \n",
              "1  {u'IsSystem': False, u'Name': u'Inactive', u'V...   \n",
              "2  {u'IsSystem': False, u'Name': u'Inactive', u'V...   \n",
              "3  {u'IsSystem': False, u'Name': u'Inactive', u'V...   \n",
              "4  {u'IsSystem': False, u'Name': u'Inactive', u'V...   \n",
              "\n",
              "                                             LSL 602  \\\n",
              "0  {u'IsSystem': False, u'Name': u'Inactive', u'V...   \n",
              "1  {u'IsSystem': False, u'Name': u'Inactive', u'V...   \n",
              "2  {u'IsSystem': False, u'Name': u'Inactive', u'V...   \n",
              "3  {u'IsSystem': False, u'Name': u'Inactive', u'V...   \n",
              "4  {u'IsSystem': False, u'Name': u'Inactive', u'V...   \n",
              "\n",
              "                                             LSL 603 P6 STATE P601 Status  \\\n",
              "0  {u'IsSystem': False, u'Name': u'Active', u'Val...        2           1   \n",
              "1  {u'IsSystem': False, u'Name': u'Active', u'Val...        2           1   \n",
              "2  {u'IsSystem': False, u'Name': u'Active', u'Val...        2           1   \n",
              "3  {u'IsSystem': False, u'Name': u'Active', u'Val...        2           1   \n",
              "4  {u'IsSystem': False, u'Name': u'Active', u'Val...        2           1   \n",
              "\n",
              "  P602 Status P603 Status  \n",
              "0           1           1  \n",
              "1           1           1  \n",
              "2           1           1  \n",
              "3           1           1  \n",
              "4           1           1  \n",
              "\n",
              "[5 rows x 80 columns]"
            ],
            "text/html": [
              "\n",
              "  <div id=\"df-b772e0cb-17f6-40f1-a696-12259b46dec4\" class=\"colab-df-container\">\n",
              "    <div>\n",
              "<style scoped>\n",
              "    .dataframe tbody tr th:only-of-type {\n",
              "        vertical-align: middle;\n",
              "    }\n",
              "\n",
              "    .dataframe tbody tr th {\n",
              "        vertical-align: top;\n",
              "    }\n",
              "\n",
              "    .dataframe thead th {\n",
              "        text-align: right;\n",
              "    }\n",
              "</style>\n",
              "<table border=\"1\" class=\"dataframe\">\n",
              "  <thead>\n",
              "    <tr style=\"text-align: right;\">\n",
              "      <th></th>\n",
              "      <th>Date</th>\n",
              "      <th>Attack</th>\n",
              "      <th>Label</th>\n",
              "      <th>FIT 101</th>\n",
              "      <th>LIT 101</th>\n",
              "      <th>MV 101</th>\n",
              "      <th>P1_STATE</th>\n",
              "      <th>P101 Status</th>\n",
              "      <th>P102 Status</th>\n",
              "      <th>AIT 201</th>\n",
              "      <th>...</th>\n",
              "      <th>LSH 601</th>\n",
              "      <th>LSH 602</th>\n",
              "      <th>LSH 603</th>\n",
              "      <th>LSL 601</th>\n",
              "      <th>LSL 602</th>\n",
              "      <th>LSL 603</th>\n",
              "      <th>P6 STATE</th>\n",
              "      <th>P601 Status</th>\n",
              "      <th>P602 Status</th>\n",
              "      <th>P603 Status</th>\n",
              "    </tr>\n",
              "  </thead>\n",
              "  <tbody>\n",
              "    <tr>\n",
              "      <th>0</th>\n",
              "      <td>2019-07-20 04:30:00+00:00</td>\n",
              "      <td>benign</td>\n",
              "      <td>0</td>\n",
              "      <td>0</td>\n",
              "      <td>729.8658</td>\n",
              "      <td>1</td>\n",
              "      <td>3</td>\n",
              "      <td>2</td>\n",
              "      <td>1</td>\n",
              "      <td>142.527557</td>\n",
              "      <td>...</td>\n",
              "      <td>{u'IsSystem': False, u'Name': u'Active', u'Val...</td>\n",
              "      <td>{u'IsSystem': False, u'Name': u'Active', u'Val...</td>\n",
              "      <td>{u'IsSystem': False, u'Name': u'Inactive', u'V...</td>\n",
              "      <td>{u'IsSystem': False, u'Name': u'Inactive', u'V...</td>\n",
              "      <td>{u'IsSystem': False, u'Name': u'Inactive', u'V...</td>\n",
              "      <td>{u'IsSystem': False, u'Name': u'Active', u'Val...</td>\n",
              "      <td>2</td>\n",
              "      <td>1</td>\n",
              "      <td>1</td>\n",
              "      <td>1</td>\n",
              "    </tr>\n",
              "    <tr>\n",
              "      <th>1</th>\n",
              "      <td>2019-07-20 04:30:01+00:00</td>\n",
              "      <td>benign</td>\n",
              "      <td>0</td>\n",
              "      <td>0</td>\n",
              "      <td>729.434</td>\n",
              "      <td>1</td>\n",
              "      <td>3</td>\n",
              "      <td>2</td>\n",
              "      <td>1</td>\n",
              "      <td>142.527557</td>\n",
              "      <td>...</td>\n",
              "      <td>{u'IsSystem': False, u'Name': u'Active', u'Val...</td>\n",
              "      <td>{u'IsSystem': False, u'Name': u'Active', u'Val...</td>\n",
              "      <td>{u'IsSystem': False, u'Name': u'Inactive', u'V...</td>\n",
              "      <td>{u'IsSystem': False, u'Name': u'Inactive', u'V...</td>\n",
              "      <td>{u'IsSystem': False, u'Name': u'Inactive', u'V...</td>\n",
              "      <td>{u'IsSystem': False, u'Name': u'Active', u'Val...</td>\n",
              "      <td>2</td>\n",
              "      <td>1</td>\n",
              "      <td>1</td>\n",
              "      <td>1</td>\n",
              "    </tr>\n",
              "    <tr>\n",
              "      <th>2</th>\n",
              "      <td>2019-07-20 04:30:02.004013+00:00</td>\n",
              "      <td>benign</td>\n",
              "      <td>0</td>\n",
              "      <td>0</td>\n",
              "      <td>729.12</td>\n",
              "      <td>1</td>\n",
              "      <td>3</td>\n",
              "      <td>2</td>\n",
              "      <td>1</td>\n",
              "      <td>142.527557</td>\n",
              "      <td>...</td>\n",
              "      <td>{u'IsSystem': False, u'Name': u'Active', u'Val...</td>\n",
              "      <td>{u'IsSystem': False, u'Name': u'Active', u'Val...</td>\n",
              "      <td>{u'IsSystem': False, u'Name': u'Inactive', u'V...</td>\n",
              "      <td>{u'IsSystem': False, u'Name': u'Inactive', u'V...</td>\n",
              "      <td>{u'IsSystem': False, u'Name': u'Inactive', u'V...</td>\n",
              "      <td>{u'IsSystem': False, u'Name': u'Active', u'Val...</td>\n",
              "      <td>2</td>\n",
              "      <td>1</td>\n",
              "      <td>1</td>\n",
              "      <td>1</td>\n",
              "    </tr>\n",
              "    <tr>\n",
              "      <th>3</th>\n",
              "      <td>2019-07-20 04:30:03.004013+00:00</td>\n",
              "      <td>benign</td>\n",
              "      <td>0</td>\n",
              "      <td>0</td>\n",
              "      <td>728.6882</td>\n",
              "      <td>1</td>\n",
              "      <td>3</td>\n",
              "      <td>2</td>\n",
              "      <td>1</td>\n",
              "      <td>142.527557</td>\n",
              "      <td>...</td>\n",
              "      <td>{u'IsSystem': False, u'Name': u'Active', u'Val...</td>\n",
              "      <td>{u'IsSystem': False, u'Name': u'Active', u'Val...</td>\n",
              "      <td>{u'IsSystem': False, u'Name': u'Inactive', u'V...</td>\n",
              "      <td>{u'IsSystem': False, u'Name': u'Inactive', u'V...</td>\n",
              "      <td>{u'IsSystem': False, u'Name': u'Inactive', u'V...</td>\n",
              "      <td>{u'IsSystem': False, u'Name': u'Active', u'Val...</td>\n",
              "      <td>2</td>\n",
              "      <td>1</td>\n",
              "      <td>1</td>\n",
              "      <td>1</td>\n",
              "    </tr>\n",
              "    <tr>\n",
              "      <th>4</th>\n",
              "      <td>2019-07-20 04:30:04+00:00</td>\n",
              "      <td>benign</td>\n",
              "      <td>0</td>\n",
              "      <td>0</td>\n",
              "      <td>727.7069</td>\n",
              "      <td>1</td>\n",
              "      <td>3</td>\n",
              "      <td>2</td>\n",
              "      <td>1</td>\n",
              "      <td>142.527557</td>\n",
              "      <td>...</td>\n",
              "      <td>{u'IsSystem': False, u'Name': u'Active', u'Val...</td>\n",
              "      <td>{u'IsSystem': False, u'Name': u'Active', u'Val...</td>\n",
              "      <td>{u'IsSystem': False, u'Name': u'Inactive', u'V...</td>\n",
              "      <td>{u'IsSystem': False, u'Name': u'Inactive', u'V...</td>\n",
              "      <td>{u'IsSystem': False, u'Name': u'Inactive', u'V...</td>\n",
              "      <td>{u'IsSystem': False, u'Name': u'Active', u'Val...</td>\n",
              "      <td>2</td>\n",
              "      <td>1</td>\n",
              "      <td>1</td>\n",
              "      <td>1</td>\n",
              "    </tr>\n",
              "  </tbody>\n",
              "</table>\n",
              "<p>5 rows × 80 columns</p>\n",
              "</div>\n",
              "    <div class=\"colab-df-buttons\">\n",
              "\n",
              "  <div class=\"colab-df-container\">\n",
              "    <button class=\"colab-df-convert\" onclick=\"convertToInteractive('df-b772e0cb-17f6-40f1-a696-12259b46dec4')\"\n",
              "            title=\"Convert this dataframe to an interactive table.\"\n",
              "            style=\"display:none;\">\n",
              "\n",
              "  <svg xmlns=\"http://www.w3.org/2000/svg\" height=\"24px\" viewBox=\"0 -960 960 960\">\n",
              "    <path d=\"M120-120v-720h720v720H120Zm60-500h600v-160H180v160Zm220 220h160v-160H400v160Zm0 220h160v-160H400v160ZM180-400h160v-160H180v160Zm440 0h160v-160H620v160ZM180-180h160v-160H180v160Zm440 0h160v-160H620v160Z\"/>\n",
              "  </svg>\n",
              "    </button>\n",
              "\n",
              "  <style>\n",
              "    .colab-df-container {\n",
              "      display:flex;\n",
              "      gap: 12px;\n",
              "    }\n",
              "\n",
              "    .colab-df-convert {\n",
              "      background-color: #E8F0FE;\n",
              "      border: none;\n",
              "      border-radius: 50%;\n",
              "      cursor: pointer;\n",
              "      display: none;\n",
              "      fill: #1967D2;\n",
              "      height: 32px;\n",
              "      padding: 0 0 0 0;\n",
              "      width: 32px;\n",
              "    }\n",
              "\n",
              "    .colab-df-convert:hover {\n",
              "      background-color: #E2EBFA;\n",
              "      box-shadow: 0px 1px 2px rgba(60, 64, 67, 0.3), 0px 1px 3px 1px rgba(60, 64, 67, 0.15);\n",
              "      fill: #174EA6;\n",
              "    }\n",
              "\n",
              "    .colab-df-buttons div {\n",
              "      margin-bottom: 4px;\n",
              "    }\n",
              "\n",
              "    [theme=dark] .colab-df-convert {\n",
              "      background-color: #3B4455;\n",
              "      fill: #D2E3FC;\n",
              "    }\n",
              "\n",
              "    [theme=dark] .colab-df-convert:hover {\n",
              "      background-color: #434B5C;\n",
              "      box-shadow: 0px 1px 3px 1px rgba(0, 0, 0, 0.15);\n",
              "      filter: drop-shadow(0px 1px 2px rgba(0, 0, 0, 0.3));\n",
              "      fill: #FFFFFF;\n",
              "    }\n",
              "  </style>\n",
              "\n",
              "    <script>\n",
              "      const buttonEl =\n",
              "        document.querySelector('#df-b772e0cb-17f6-40f1-a696-12259b46dec4 button.colab-df-convert');\n",
              "      buttonEl.style.display =\n",
              "        google.colab.kernel.accessAllowed ? 'block' : 'none';\n",
              "\n",
              "      async function convertToInteractive(key) {\n",
              "        const element = document.querySelector('#df-b772e0cb-17f6-40f1-a696-12259b46dec4');\n",
              "        const dataTable =\n",
              "          await google.colab.kernel.invokeFunction('convertToInteractive',\n",
              "                                                    [key], {});\n",
              "        if (!dataTable) return;\n",
              "\n",
              "        const docLinkHtml = 'Like what you see? Visit the ' +\n",
              "          '<a target=\"_blank\" href=https://colab.research.google.com/notebooks/data_table.ipynb>data table notebook</a>'\n",
              "          + ' to learn more about interactive tables.';\n",
              "        element.innerHTML = '';\n",
              "        dataTable['output_type'] = 'display_data';\n",
              "        await google.colab.output.renderOutput(dataTable, element);\n",
              "        const docLink = document.createElement('div');\n",
              "        docLink.innerHTML = docLinkHtml;\n",
              "        element.appendChild(docLink);\n",
              "      }\n",
              "    </script>\n",
              "  </div>\n",
              "\n",
              "\n",
              "<div id=\"df-04f5aee7-683c-43f5-a5b8-7b2fb50c133b\">\n",
              "  <button class=\"colab-df-quickchart\" onclick=\"quickchart('df-04f5aee7-683c-43f5-a5b8-7b2fb50c133b')\"\n",
              "            title=\"Suggest charts.\"\n",
              "            style=\"display:none;\">\n",
              "\n",
              "<svg xmlns=\"http://www.w3.org/2000/svg\" height=\"24px\"viewBox=\"0 0 24 24\"\n",
              "     width=\"24px\">\n",
              "    <g>\n",
              "        <path d=\"M19 3H5c-1.1 0-2 .9-2 2v14c0 1.1.9 2 2 2h14c1.1 0 2-.9 2-2V5c0-1.1-.9-2-2-2zM9 17H7v-7h2v7zm4 0h-2V7h2v10zm4 0h-2v-4h2v4z\"/>\n",
              "    </g>\n",
              "</svg>\n",
              "  </button>\n",
              "\n",
              "<style>\n",
              "  .colab-df-quickchart {\n",
              "      --bg-color: #E8F0FE;\n",
              "      --fill-color: #1967D2;\n",
              "      --hover-bg-color: #E2EBFA;\n",
              "      --hover-fill-color: #174EA6;\n",
              "      --disabled-fill-color: #AAA;\n",
              "      --disabled-bg-color: #DDD;\n",
              "  }\n",
              "\n",
              "  [theme=dark] .colab-df-quickchart {\n",
              "      --bg-color: #3B4455;\n",
              "      --fill-color: #D2E3FC;\n",
              "      --hover-bg-color: #434B5C;\n",
              "      --hover-fill-color: #FFFFFF;\n",
              "      --disabled-bg-color: #3B4455;\n",
              "      --disabled-fill-color: #666;\n",
              "  }\n",
              "\n",
              "  .colab-df-quickchart {\n",
              "    background-color: var(--bg-color);\n",
              "    border: none;\n",
              "    border-radius: 50%;\n",
              "    cursor: pointer;\n",
              "    display: none;\n",
              "    fill: var(--fill-color);\n",
              "    height: 32px;\n",
              "    padding: 0;\n",
              "    width: 32px;\n",
              "  }\n",
              "\n",
              "  .colab-df-quickchart:hover {\n",
              "    background-color: var(--hover-bg-color);\n",
              "    box-shadow: 0 1px 2px rgba(60, 64, 67, 0.3), 0 1px 3px 1px rgba(60, 64, 67, 0.15);\n",
              "    fill: var(--button-hover-fill-color);\n",
              "  }\n",
              "\n",
              "  .colab-df-quickchart-complete:disabled,\n",
              "  .colab-df-quickchart-complete:disabled:hover {\n",
              "    background-color: var(--disabled-bg-color);\n",
              "    fill: var(--disabled-fill-color);\n",
              "    box-shadow: none;\n",
              "  }\n",
              "\n",
              "  .colab-df-spinner {\n",
              "    border: 2px solid var(--fill-color);\n",
              "    border-color: transparent;\n",
              "    border-bottom-color: var(--fill-color);\n",
              "    animation:\n",
              "      spin 1s steps(1) infinite;\n",
              "  }\n",
              "\n",
              "  @keyframes spin {\n",
              "    0% {\n",
              "      border-color: transparent;\n",
              "      border-bottom-color: var(--fill-color);\n",
              "      border-left-color: var(--fill-color);\n",
              "    }\n",
              "    20% {\n",
              "      border-color: transparent;\n",
              "      border-left-color: var(--fill-color);\n",
              "      border-top-color: var(--fill-color);\n",
              "    }\n",
              "    30% {\n",
              "      border-color: transparent;\n",
              "      border-left-color: var(--fill-color);\n",
              "      border-top-color: var(--fill-color);\n",
              "      border-right-color: var(--fill-color);\n",
              "    }\n",
              "    40% {\n",
              "      border-color: transparent;\n",
              "      border-right-color: var(--fill-color);\n",
              "      border-top-color: var(--fill-color);\n",
              "    }\n",
              "    60% {\n",
              "      border-color: transparent;\n",
              "      border-right-color: var(--fill-color);\n",
              "    }\n",
              "    80% {\n",
              "      border-color: transparent;\n",
              "      border-right-color: var(--fill-color);\n",
              "      border-bottom-color: var(--fill-color);\n",
              "    }\n",
              "    90% {\n",
              "      border-color: transparent;\n",
              "      border-bottom-color: var(--fill-color);\n",
              "    }\n",
              "  }\n",
              "</style>\n",
              "\n",
              "  <script>\n",
              "    async function quickchart(key) {\n",
              "      const quickchartButtonEl =\n",
              "        document.querySelector('#' + key + ' button');\n",
              "      quickchartButtonEl.disabled = true;  // To prevent multiple clicks.\n",
              "      quickchartButtonEl.classList.add('colab-df-spinner');\n",
              "      try {\n",
              "        const charts = await google.colab.kernel.invokeFunction(\n",
              "            'suggestCharts', [key], {});\n",
              "      } catch (error) {\n",
              "        console.error('Error during call to suggestCharts:', error);\n",
              "      }\n",
              "      quickchartButtonEl.classList.remove('colab-df-spinner');\n",
              "      quickchartButtonEl.classList.add('colab-df-quickchart-complete');\n",
              "    }\n",
              "    (() => {\n",
              "      let quickchartButtonEl =\n",
              "        document.querySelector('#df-04f5aee7-683c-43f5-a5b8-7b2fb50c133b button');\n",
              "      quickchartButtonEl.style.display =\n",
              "        google.colab.kernel.accessAllowed ? 'block' : 'none';\n",
              "    })();\n",
              "  </script>\n",
              "</div>\n",
              "    </div>\n",
              "  </div>\n"
            ]
          },
          "metadata": {},
          "execution_count": 44
        }
      ]
    },
    {
      "cell_type": "markdown",
      "source": [
        "## Outlier detection with Isolation forest."
      ],
      "metadata": {
        "id": "aTtfq33xIbXs"
      }
    },
    {
      "cell_type": "markdown",
      "source": [
        "Firstly we need to retrieve columns list which contain categorical data by checking if they do not contain float value or datetime."
      ],
      "metadata": {
        "id": "XhNYleZlIt1k"
      }
    },
    {
      "cell_type": "code",
      "source": [
        "is_float = lambda x: isinstance(x,float)\n",
        "categorical_columns = []\n",
        "for col in full_df.columns:\n",
        "  if not np.any(full_df[col].apply(is_float)) and col != 'Date':\n",
        "    categorical_columns.append(col)\n",
        "print(categorical_columns)"
      ],
      "metadata": {
        "colab": {
          "base_uri": "https://localhost:8080/"
        },
        "id": "A8gQ8miz--34",
        "outputId": "e73d58ac-1f0a-497b-803a-2ea53392b16c"
      },
      "execution_count": 45,
      "outputs": [
        {
          "output_type": "stream",
          "name": "stdout",
          "text": [
            "['Attack', 'Label', 'MV 101', 'P1_STATE', 'P101 Status', 'P102 Status', 'LS 201', 'LS 202', 'LSL 203', 'LSLL 203', 'MV201', 'P2_STATE', 'P201 Status', 'P202 Status', 'P203 Status', 'P204 Status', 'P205 Status', 'P206 Status', 'P207 Status', 'P208 Status', 'MV 301', 'MV 302', 'MV 303', 'MV 304', 'P3_STATE', 'P301 Status', 'P302 Status', 'AIT 401', 'LS 401', 'P4_STATE', 'P401 Status', 'P402 Status', 'P403 Status', 'P404 Status', 'UV401', 'MV 501', 'MV 502', 'MV 503', 'MV 504', 'P5_STATE', 'P501 Status', 'P502 Status', 'LSH 601', 'LSH 602', 'LSH 603', 'LSL 601', 'LSL 602', 'LSL 603', 'P6 STATE', 'P601 Status', 'P602 Status', 'P603 Status']\n"
          ]
        }
      ]
    },
    {
      "cell_type": "markdown",
      "source": [
        "Isolation forest Algorithm is applied on categorical data with precising an `outliers_fraction` which represent the outlier rate in our dataset. To do so we just need to get the total count of attacks (labelled 1 data) and divide it by the total count.\n",
        "\n",
        "With `get_list_of_if_outliers` implemented in previous practical sessions, we apply Isolation forest algorithm on categroical data. Then we will retrieve outliers indexes."
      ],
      "metadata": {
        "id": "55rQYHSyJRkh"
      }
    },
    {
      "cell_type": "code",
      "source": [
        "outlier_fraction = (full_df['Label'] == 1).sum() / len(full_df)\n",
        "outlier_indexes = get_list_of_if_outliers(full_df[categorical_columns],outlier_fraction)"
      ],
      "metadata": {
        "id": "ZqHbai8C92IV"
      },
      "execution_count": null,
      "outputs": []
    },
    {
      "cell_type": "markdown",
      "source": [
        "Let's compute accuracy by counting predicted outliers which are real outliers."
      ],
      "metadata": {
        "id": "muxAS9-EK6Za"
      }
    },
    {
      "cell_type": "code",
      "source": [
        "outliers = np.zeros(len(full_df))\n",
        "outliers[outlier_indexes] = 1\n",
        "full_df['outliers'] = outliers\n",
        "\n",
        "attack_outliers = full_df[(full_df['outliers']== 1) & (full_df['Label']== 1)]\n",
        "outliers_matches = len(attack_outliers)\n",
        "print(f'{outliers_matches} outliers found in unsupervised manner are labelled as attacks')\n",
        "if_accuracy = outliers_matches / len(outlier_indexes)\n",
        "print(f'Isolation Forest accuracy:  {if_accuracy:.2f} ')"
      ],
      "metadata": {
        "colab": {
          "base_uri": "https://localhost:8080/"
        },
        "id": "h3knyTeFFYeT",
        "outputId": "ca56fe67-24b0-406d-ea8f-07eb4d01a6fc"
      },
      "execution_count": 47,
      "outputs": [
        {
          "output_type": "stream",
          "name": "stdout",
          "text": [
            "1002 outliers found in unsupervised manner are labelled as attacks\n",
            "Isolation Forest accuracy:  0.43 \n"
          ]
        }
      ]
    },
    {
      "cell_type": "markdown",
      "source": [
        "Then we compute F1 Score"
      ],
      "metadata": {
        "id": "_7ZVCTf9LXEI"
      }
    },
    {
      "cell_type": "code",
      "source": [
        "from sklearn.metrics import f1_score\n",
        "\n",
        "if_f1_score = f1_score(full_df['outliers'],full_df['Label'])\n",
        "print(f'Isolation Forest F1 score: {if_f1_score:.2f}')"
      ],
      "metadata": {
        "colab": {
          "base_uri": "https://localhost:8080/"
        },
        "id": "D9kjWrz3Gy6d",
        "outputId": "9eb2fbe4-7b67-426a-eca0-99c618f0664e"
      },
      "execution_count": 48,
      "outputs": [
        {
          "output_type": "stream",
          "name": "stdout",
          "text": [
            "Isolation Forest F1 score: 0.41\n"
          ]
        }
      ]
    },
    {
      "cell_type": "markdown",
      "source": [
        "With `0.43` for accuracy and `0.41` of F1 score, we can say that Isolation Forest is not well adapted on our dataset."
      ],
      "metadata": {
        "id": "Gre5USljLevL"
      }
    },
    {
      "cell_type": "code",
      "source": [
        "full_df.to_csv('clean_swat.csv')"
      ],
      "metadata": {
        "id": "orTqxNAGIg6U"
      },
      "execution_count": 49,
      "outputs": []
    }
  ]
}