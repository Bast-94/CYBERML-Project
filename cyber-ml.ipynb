{
  "cells": [
    {
      "cell_type": "markdown",
      "metadata": {
        "colab_type": "text",
        "id": "view-in-github"
      },
      "source": [
        "<a href=\"https://colab.research.google.com/github/Bast-94/CYBERML-Project/blob/data-set/cyber-ml.ipynb\" target=\"_parent\"><img src=\"https://colab.research.google.com/assets/colab-badge.svg\" alt=\"Open In Colab\"/></a>"
      ]
    },
    {
      "cell_type": "markdown",
      "metadata": {
        "id": "fS_rKeGvnj_D"
      },
      "source": [
        "# Machine Learning for Cyber Security Project"
      ]
    },
    {
      "cell_type": "code",
      "execution_count": 1,
      "metadata": {},
      "outputs": [
        {
          "name": "stdout",
          "output_type": "stream",
          "text": [
            "Requirement already satisfied: pip in /home/charlie/Programmes/miniconda3/envs/mlsecu/lib/python3.9/site-packages (23.3.1)\n"
          ]
        }
      ],
      "source": [
        "! pip install --upgrade pip\n",
        "\n",
        "! pip install -q tensorflow\n",
        "! pip install -q openpyxl"
      ]
    },
    {
      "cell_type": "code",
      "execution_count": 2,
      "metadata": {
        "id": "7TpRUyUNheyM"
      },
      "outputs": [],
      "source": [
        "import pandas as pd\n",
        "import numpy as np\n",
        "import os\n",
        "import sys\n",
        "from mlsecu.anomaly_detection_use_case import *\n",
        "from sklearn.metrics import f1_score, classification_report\n",
        "from sklearn.metrics import confusion_matrix, ConfusionMatrixDisplay\n",
        "import matplotlib.pyplot as plt"
      ]
    },
    {
      "cell_type": "markdown",
      "metadata": {
        "id": "B00IwkH4nfTm"
      },
      "source": [
        "## Prepare Data"
      ]
    },
    {
      "cell_type": "markdown",
      "metadata": {
        "id": "I-a73SXQqwEk"
      },
      "source": [
        "### Loading dataset"
      ]
    },
    {
      "cell_type": "code",
      "execution_count": 3,
      "metadata": {
        "id": "TWPnqowoizKN"
      },
      "outputs": [],
      "source": [
        "dataset_path = './data/SWaT.A3_dataset_Jul 19_labelled.xlsx'\n",
        "df = pd.read_excel(dataset_path, header=1)"
      ]
    },
    {
      "cell_type": "code",
      "execution_count": 4,
      "metadata": {},
      "outputs": [
        {
          "data": {
            "text/html": [
              "<div>\n",
              "<style scoped>\n",
              "    .dataframe tbody tr th:only-of-type {\n",
              "        vertical-align: middle;\n",
              "    }\n",
              "\n",
              "    .dataframe tbody tr th {\n",
              "        vertical-align: top;\n",
              "    }\n",
              "\n",
              "    .dataframe thead th {\n",
              "        text-align: right;\n",
              "    }\n",
              "</style>\n",
              "<table border=\"1\" class=\"dataframe\">\n",
              "  <thead>\n",
              "    <tr style=\"text-align: right;\">\n",
              "      <th></th>\n",
              "      <th>GMT +0</th>\n",
              "      <th>Attack</th>\n",
              "      <th>Label</th>\n",
              "      <th>FIT 101</th>\n",
              "      <th>LIT 101</th>\n",
              "      <th>MV 101</th>\n",
              "      <th>P1_STATE</th>\n",
              "      <th>P101 Status</th>\n",
              "      <th>P102 Status</th>\n",
              "      <th>AIT 201</th>\n",
              "      <th>...</th>\n",
              "      <th>LSH 601</th>\n",
              "      <th>LSH 602</th>\n",
              "      <th>LSH 603</th>\n",
              "      <th>LSL 601</th>\n",
              "      <th>LSL 602</th>\n",
              "      <th>LSL 603</th>\n",
              "      <th>P6 STATE</th>\n",
              "      <th>P601 Status</th>\n",
              "      <th>P602 Status</th>\n",
              "      <th>P603 Status</th>\n",
              "    </tr>\n",
              "  </thead>\n",
              "  <tbody>\n",
              "    <tr>\n",
              "      <th>0</th>\n",
              "      <td>timestamp</td>\n",
              "      <td>NaN</td>\n",
              "      <td>NaN</td>\n",
              "      <td>value</td>\n",
              "      <td>value</td>\n",
              "      <td>value</td>\n",
              "      <td>value</td>\n",
              "      <td>value</td>\n",
              "      <td>value</td>\n",
              "      <td>value</td>\n",
              "      <td>...</td>\n",
              "      <td>value</td>\n",
              "      <td>value</td>\n",
              "      <td>value</td>\n",
              "      <td>value</td>\n",
              "      <td>value</td>\n",
              "      <td>value</td>\n",
              "      <td>value</td>\n",
              "      <td>value</td>\n",
              "      <td>value</td>\n",
              "      <td>value</td>\n",
              "    </tr>\n",
              "    <tr>\n",
              "      <th>1</th>\n",
              "      <td>2019-07-20T04:30:00Z</td>\n",
              "      <td>NaN</td>\n",
              "      <td>NaN</td>\n",
              "      <td>0</td>\n",
              "      <td>729.8658</td>\n",
              "      <td>1</td>\n",
              "      <td>3</td>\n",
              "      <td>2</td>\n",
              "      <td>1</td>\n",
              "      <td>142.527557</td>\n",
              "      <td>...</td>\n",
              "      <td>{u'IsSystem': False, u'Name': u'Active', u'Val...</td>\n",
              "      <td>{u'IsSystem': False, u'Name': u'Active', u'Val...</td>\n",
              "      <td>{u'IsSystem': False, u'Name': u'Inactive', u'V...</td>\n",
              "      <td>{u'IsSystem': False, u'Name': u'Inactive', u'V...</td>\n",
              "      <td>{u'IsSystem': False, u'Name': u'Inactive', u'V...</td>\n",
              "      <td>{u'IsSystem': False, u'Name': u'Active', u'Val...</td>\n",
              "      <td>2</td>\n",
              "      <td>1</td>\n",
              "      <td>1</td>\n",
              "      <td>1</td>\n",
              "    </tr>\n",
              "    <tr>\n",
              "      <th>2</th>\n",
              "      <td>2019-07-20T04:30:01Z</td>\n",
              "      <td>NaN</td>\n",
              "      <td>NaN</td>\n",
              "      <td>0</td>\n",
              "      <td>729.434</td>\n",
              "      <td>1</td>\n",
              "      <td>3</td>\n",
              "      <td>2</td>\n",
              "      <td>1</td>\n",
              "      <td>142.527557</td>\n",
              "      <td>...</td>\n",
              "      <td>{u'IsSystem': False, u'Name': u'Active', u'Val...</td>\n",
              "      <td>{u'IsSystem': False, u'Name': u'Active', u'Val...</td>\n",
              "      <td>{u'IsSystem': False, u'Name': u'Inactive', u'V...</td>\n",
              "      <td>{u'IsSystem': False, u'Name': u'Inactive', u'V...</td>\n",
              "      <td>{u'IsSystem': False, u'Name': u'Inactive', u'V...</td>\n",
              "      <td>{u'IsSystem': False, u'Name': u'Active', u'Val...</td>\n",
              "      <td>2</td>\n",
              "      <td>1</td>\n",
              "      <td>1</td>\n",
              "      <td>1</td>\n",
              "    </tr>\n",
              "    <tr>\n",
              "      <th>3</th>\n",
              "      <td>2019-07-20T04:30:02.004013Z</td>\n",
              "      <td>NaN</td>\n",
              "      <td>NaN</td>\n",
              "      <td>0</td>\n",
              "      <td>729.12</td>\n",
              "      <td>1</td>\n",
              "      <td>3</td>\n",
              "      <td>2</td>\n",
              "      <td>1</td>\n",
              "      <td>142.527557</td>\n",
              "      <td>...</td>\n",
              "      <td>{u'IsSystem': False, u'Name': u'Active', u'Val...</td>\n",
              "      <td>{u'IsSystem': False, u'Name': u'Active', u'Val...</td>\n",
              "      <td>{u'IsSystem': False, u'Name': u'Inactive', u'V...</td>\n",
              "      <td>{u'IsSystem': False, u'Name': u'Inactive', u'V...</td>\n",
              "      <td>{u'IsSystem': False, u'Name': u'Inactive', u'V...</td>\n",
              "      <td>{u'IsSystem': False, u'Name': u'Active', u'Val...</td>\n",
              "      <td>2</td>\n",
              "      <td>1</td>\n",
              "      <td>1</td>\n",
              "      <td>1</td>\n",
              "    </tr>\n",
              "    <tr>\n",
              "      <th>4</th>\n",
              "      <td>2019-07-20T04:30:03.004013Z</td>\n",
              "      <td>NaN</td>\n",
              "      <td>NaN</td>\n",
              "      <td>0</td>\n",
              "      <td>728.6882</td>\n",
              "      <td>1</td>\n",
              "      <td>3</td>\n",
              "      <td>2</td>\n",
              "      <td>1</td>\n",
              "      <td>142.527557</td>\n",
              "      <td>...</td>\n",
              "      <td>{u'IsSystem': False, u'Name': u'Active', u'Val...</td>\n",
              "      <td>{u'IsSystem': False, u'Name': u'Active', u'Val...</td>\n",
              "      <td>{u'IsSystem': False, u'Name': u'Inactive', u'V...</td>\n",
              "      <td>{u'IsSystem': False, u'Name': u'Inactive', u'V...</td>\n",
              "      <td>{u'IsSystem': False, u'Name': u'Inactive', u'V...</td>\n",
              "      <td>{u'IsSystem': False, u'Name': u'Active', u'Val...</td>\n",
              "      <td>2</td>\n",
              "      <td>1</td>\n",
              "      <td>1</td>\n",
              "      <td>1</td>\n",
              "    </tr>\n",
              "  </tbody>\n",
              "</table>\n",
              "<p>5 rows × 80 columns</p>\n",
              "</div>"
            ],
            "text/plain": [
              "                        GMT +0 Attack  Label FIT 101   LIT 101 MV 101  \\\n",
              "0                    timestamp    NaN    NaN   value     value  value   \n",
              "1         2019-07-20T04:30:00Z    NaN    NaN       0  729.8658      1   \n",
              "2         2019-07-20T04:30:01Z    NaN    NaN       0   729.434      1   \n",
              "3  2019-07-20T04:30:02.004013Z    NaN    NaN       0    729.12      1   \n",
              "4  2019-07-20T04:30:03.004013Z    NaN    NaN       0  728.6882      1   \n",
              "\n",
              "  P1_STATE P101 Status P102 Status     AIT 201  ...  \\\n",
              "0    value       value       value       value  ...   \n",
              "1        3           2           1  142.527557  ...   \n",
              "2        3           2           1  142.527557  ...   \n",
              "3        3           2           1  142.527557  ...   \n",
              "4        3           2           1  142.527557  ...   \n",
              "\n",
              "                                             LSH 601  \\\n",
              "0                                              value   \n",
              "1  {u'IsSystem': False, u'Name': u'Active', u'Val...   \n",
              "2  {u'IsSystem': False, u'Name': u'Active', u'Val...   \n",
              "3  {u'IsSystem': False, u'Name': u'Active', u'Val...   \n",
              "4  {u'IsSystem': False, u'Name': u'Active', u'Val...   \n",
              "\n",
              "                                             LSH 602  \\\n",
              "0                                              value   \n",
              "1  {u'IsSystem': False, u'Name': u'Active', u'Val...   \n",
              "2  {u'IsSystem': False, u'Name': u'Active', u'Val...   \n",
              "3  {u'IsSystem': False, u'Name': u'Active', u'Val...   \n",
              "4  {u'IsSystem': False, u'Name': u'Active', u'Val...   \n",
              "\n",
              "                                             LSH 603  \\\n",
              "0                                              value   \n",
              "1  {u'IsSystem': False, u'Name': u'Inactive', u'V...   \n",
              "2  {u'IsSystem': False, u'Name': u'Inactive', u'V...   \n",
              "3  {u'IsSystem': False, u'Name': u'Inactive', u'V...   \n",
              "4  {u'IsSystem': False, u'Name': u'Inactive', u'V...   \n",
              "\n",
              "                                             LSL 601  \\\n",
              "0                                              value   \n",
              "1  {u'IsSystem': False, u'Name': u'Inactive', u'V...   \n",
              "2  {u'IsSystem': False, u'Name': u'Inactive', u'V...   \n",
              "3  {u'IsSystem': False, u'Name': u'Inactive', u'V...   \n",
              "4  {u'IsSystem': False, u'Name': u'Inactive', u'V...   \n",
              "\n",
              "                                             LSL 602  \\\n",
              "0                                              value   \n",
              "1  {u'IsSystem': False, u'Name': u'Inactive', u'V...   \n",
              "2  {u'IsSystem': False, u'Name': u'Inactive', u'V...   \n",
              "3  {u'IsSystem': False, u'Name': u'Inactive', u'V...   \n",
              "4  {u'IsSystem': False, u'Name': u'Inactive', u'V...   \n",
              "\n",
              "                                             LSL 603 P6 STATE P601 Status  \\\n",
              "0                                              value    value       value   \n",
              "1  {u'IsSystem': False, u'Name': u'Active', u'Val...        2           1   \n",
              "2  {u'IsSystem': False, u'Name': u'Active', u'Val...        2           1   \n",
              "3  {u'IsSystem': False, u'Name': u'Active', u'Val...        2           1   \n",
              "4  {u'IsSystem': False, u'Name': u'Active', u'Val...        2           1   \n",
              "\n",
              "  P602 Status P603 Status  \n",
              "0       value       value  \n",
              "1           1           1  \n",
              "2           1           1  \n",
              "3           1           1  \n",
              "4           1           1  \n",
              "\n",
              "[5 rows x 80 columns]"
            ]
          },
          "execution_count": 4,
          "metadata": {},
          "output_type": "execute_result"
        }
      ],
      "source": [
        "df.head()"
      ]
    },
    {
      "cell_type": "markdown",
      "metadata": {
        "id": "FQpaxNsqq5K1"
      },
      "source": [
        "### Cleaning data"
      ]
    },
    {
      "cell_type": "markdown",
      "metadata": {
        "id": "AVEBkdqAMCqm"
      },
      "source": [
        "In order to work easier on our dataset we need to clean it properly."
      ]
    },
    {
      "cell_type": "code",
      "execution_count": 5,
      "metadata": {
        "colab": {
          "base_uri": "https://localhost:8080/",
          "height": 620
        },
        "id": "XRlbiQrdqtO8",
        "outputId": "8d1f0548-7aee-40e5-d1a4-9ed8ff89334a"
      },
      "outputs": [
        {
          "data": {
            "text/html": [
              "<div>\n",
              "<style scoped>\n",
              "    .dataframe tbody tr th:only-of-type {\n",
              "        vertical-align: middle;\n",
              "    }\n",
              "\n",
              "    .dataframe tbody tr th {\n",
              "        vertical-align: top;\n",
              "    }\n",
              "\n",
              "    .dataframe thead th {\n",
              "        text-align: right;\n",
              "    }\n",
              "</style>\n",
              "<table border=\"1\" class=\"dataframe\">\n",
              "  <thead>\n",
              "    <tr style=\"text-align: right;\">\n",
              "      <th></th>\n",
              "      <th>Date</th>\n",
              "      <th>Attack</th>\n",
              "      <th>Label</th>\n",
              "      <th>FIT 101</th>\n",
              "      <th>LIT 101</th>\n",
              "      <th>MV 101</th>\n",
              "      <th>P1_STATE</th>\n",
              "      <th>P101 Status</th>\n",
              "      <th>P102 Status</th>\n",
              "      <th>AIT 201</th>\n",
              "      <th>...</th>\n",
              "      <th>LSH 601</th>\n",
              "      <th>LSH 602</th>\n",
              "      <th>LSH 603</th>\n",
              "      <th>LSL 601</th>\n",
              "      <th>LSL 602</th>\n",
              "      <th>LSL 603</th>\n",
              "      <th>P6 STATE</th>\n",
              "      <th>P601 Status</th>\n",
              "      <th>P602 Status</th>\n",
              "      <th>P603 Status</th>\n",
              "    </tr>\n",
              "  </thead>\n",
              "  <tbody>\n",
              "    <tr>\n",
              "      <th>0</th>\n",
              "      <td>2019-07-20T04:30:00Z</td>\n",
              "      <td>benign</td>\n",
              "      <td>0</td>\n",
              "      <td>0</td>\n",
              "      <td>729.8658</td>\n",
              "      <td>1</td>\n",
              "      <td>3</td>\n",
              "      <td>2</td>\n",
              "      <td>1</td>\n",
              "      <td>142.527557</td>\n",
              "      <td>...</td>\n",
              "      <td>{u'IsSystem': False, u'Name': u'Active', u'Val...</td>\n",
              "      <td>{u'IsSystem': False, u'Name': u'Active', u'Val...</td>\n",
              "      <td>{u'IsSystem': False, u'Name': u'Inactive', u'V...</td>\n",
              "      <td>{u'IsSystem': False, u'Name': u'Inactive', u'V...</td>\n",
              "      <td>{u'IsSystem': False, u'Name': u'Inactive', u'V...</td>\n",
              "      <td>{u'IsSystem': False, u'Name': u'Active', u'Val...</td>\n",
              "      <td>2</td>\n",
              "      <td>1</td>\n",
              "      <td>1</td>\n",
              "      <td>1</td>\n",
              "    </tr>\n",
              "    <tr>\n",
              "      <th>1</th>\n",
              "      <td>2019-07-20T04:30:01Z</td>\n",
              "      <td>benign</td>\n",
              "      <td>0</td>\n",
              "      <td>0</td>\n",
              "      <td>729.434</td>\n",
              "      <td>1</td>\n",
              "      <td>3</td>\n",
              "      <td>2</td>\n",
              "      <td>1</td>\n",
              "      <td>142.527557</td>\n",
              "      <td>...</td>\n",
              "      <td>{u'IsSystem': False, u'Name': u'Active', u'Val...</td>\n",
              "      <td>{u'IsSystem': False, u'Name': u'Active', u'Val...</td>\n",
              "      <td>{u'IsSystem': False, u'Name': u'Inactive', u'V...</td>\n",
              "      <td>{u'IsSystem': False, u'Name': u'Inactive', u'V...</td>\n",
              "      <td>{u'IsSystem': False, u'Name': u'Inactive', u'V...</td>\n",
              "      <td>{u'IsSystem': False, u'Name': u'Active', u'Val...</td>\n",
              "      <td>2</td>\n",
              "      <td>1</td>\n",
              "      <td>1</td>\n",
              "      <td>1</td>\n",
              "    </tr>\n",
              "    <tr>\n",
              "      <th>2</th>\n",
              "      <td>2019-07-20T04:30:02.004013Z</td>\n",
              "      <td>benign</td>\n",
              "      <td>0</td>\n",
              "      <td>0</td>\n",
              "      <td>729.12</td>\n",
              "      <td>1</td>\n",
              "      <td>3</td>\n",
              "      <td>2</td>\n",
              "      <td>1</td>\n",
              "      <td>142.527557</td>\n",
              "      <td>...</td>\n",
              "      <td>{u'IsSystem': False, u'Name': u'Active', u'Val...</td>\n",
              "      <td>{u'IsSystem': False, u'Name': u'Active', u'Val...</td>\n",
              "      <td>{u'IsSystem': False, u'Name': u'Inactive', u'V...</td>\n",
              "      <td>{u'IsSystem': False, u'Name': u'Inactive', u'V...</td>\n",
              "      <td>{u'IsSystem': False, u'Name': u'Inactive', u'V...</td>\n",
              "      <td>{u'IsSystem': False, u'Name': u'Active', u'Val...</td>\n",
              "      <td>2</td>\n",
              "      <td>1</td>\n",
              "      <td>1</td>\n",
              "      <td>1</td>\n",
              "    </tr>\n",
              "    <tr>\n",
              "      <th>3</th>\n",
              "      <td>2019-07-20T04:30:03.004013Z</td>\n",
              "      <td>benign</td>\n",
              "      <td>0</td>\n",
              "      <td>0</td>\n",
              "      <td>728.6882</td>\n",
              "      <td>1</td>\n",
              "      <td>3</td>\n",
              "      <td>2</td>\n",
              "      <td>1</td>\n",
              "      <td>142.527557</td>\n",
              "      <td>...</td>\n",
              "      <td>{u'IsSystem': False, u'Name': u'Active', u'Val...</td>\n",
              "      <td>{u'IsSystem': False, u'Name': u'Active', u'Val...</td>\n",
              "      <td>{u'IsSystem': False, u'Name': u'Inactive', u'V...</td>\n",
              "      <td>{u'IsSystem': False, u'Name': u'Inactive', u'V...</td>\n",
              "      <td>{u'IsSystem': False, u'Name': u'Inactive', u'V...</td>\n",
              "      <td>{u'IsSystem': False, u'Name': u'Active', u'Val...</td>\n",
              "      <td>2</td>\n",
              "      <td>1</td>\n",
              "      <td>1</td>\n",
              "      <td>1</td>\n",
              "    </tr>\n",
              "    <tr>\n",
              "      <th>4</th>\n",
              "      <td>2019-07-20T04:30:04Z</td>\n",
              "      <td>benign</td>\n",
              "      <td>0</td>\n",
              "      <td>0</td>\n",
              "      <td>727.7069</td>\n",
              "      <td>1</td>\n",
              "      <td>3</td>\n",
              "      <td>2</td>\n",
              "      <td>1</td>\n",
              "      <td>142.527557</td>\n",
              "      <td>...</td>\n",
              "      <td>{u'IsSystem': False, u'Name': u'Active', u'Val...</td>\n",
              "      <td>{u'IsSystem': False, u'Name': u'Active', u'Val...</td>\n",
              "      <td>{u'IsSystem': False, u'Name': u'Inactive', u'V...</td>\n",
              "      <td>{u'IsSystem': False, u'Name': u'Inactive', u'V...</td>\n",
              "      <td>{u'IsSystem': False, u'Name': u'Inactive', u'V...</td>\n",
              "      <td>{u'IsSystem': False, u'Name': u'Active', u'Val...</td>\n",
              "      <td>2</td>\n",
              "      <td>1</td>\n",
              "      <td>1</td>\n",
              "      <td>1</td>\n",
              "    </tr>\n",
              "  </tbody>\n",
              "</table>\n",
              "<p>5 rows × 80 columns</p>\n",
              "</div>"
            ],
            "text/plain": [
              "                          Date  Attack  Label FIT 101   LIT 101 MV 101  \\\n",
              "0         2019-07-20T04:30:00Z  benign      0       0  729.8658      1   \n",
              "1         2019-07-20T04:30:01Z  benign      0       0   729.434      1   \n",
              "2  2019-07-20T04:30:02.004013Z  benign      0       0    729.12      1   \n",
              "3  2019-07-20T04:30:03.004013Z  benign      0       0  728.6882      1   \n",
              "4         2019-07-20T04:30:04Z  benign      0       0  727.7069      1   \n",
              "\n",
              "  P1_STATE P101 Status P102 Status     AIT 201  ...  \\\n",
              "0        3           2           1  142.527557  ...   \n",
              "1        3           2           1  142.527557  ...   \n",
              "2        3           2           1  142.527557  ...   \n",
              "3        3           2           1  142.527557  ...   \n",
              "4        3           2           1  142.527557  ...   \n",
              "\n",
              "                                             LSH 601  \\\n",
              "0  {u'IsSystem': False, u'Name': u'Active', u'Val...   \n",
              "1  {u'IsSystem': False, u'Name': u'Active', u'Val...   \n",
              "2  {u'IsSystem': False, u'Name': u'Active', u'Val...   \n",
              "3  {u'IsSystem': False, u'Name': u'Active', u'Val...   \n",
              "4  {u'IsSystem': False, u'Name': u'Active', u'Val...   \n",
              "\n",
              "                                             LSH 602  \\\n",
              "0  {u'IsSystem': False, u'Name': u'Active', u'Val...   \n",
              "1  {u'IsSystem': False, u'Name': u'Active', u'Val...   \n",
              "2  {u'IsSystem': False, u'Name': u'Active', u'Val...   \n",
              "3  {u'IsSystem': False, u'Name': u'Active', u'Val...   \n",
              "4  {u'IsSystem': False, u'Name': u'Active', u'Val...   \n",
              "\n",
              "                                             LSH 603  \\\n",
              "0  {u'IsSystem': False, u'Name': u'Inactive', u'V...   \n",
              "1  {u'IsSystem': False, u'Name': u'Inactive', u'V...   \n",
              "2  {u'IsSystem': False, u'Name': u'Inactive', u'V...   \n",
              "3  {u'IsSystem': False, u'Name': u'Inactive', u'V...   \n",
              "4  {u'IsSystem': False, u'Name': u'Inactive', u'V...   \n",
              "\n",
              "                                             LSL 601  \\\n",
              "0  {u'IsSystem': False, u'Name': u'Inactive', u'V...   \n",
              "1  {u'IsSystem': False, u'Name': u'Inactive', u'V...   \n",
              "2  {u'IsSystem': False, u'Name': u'Inactive', u'V...   \n",
              "3  {u'IsSystem': False, u'Name': u'Inactive', u'V...   \n",
              "4  {u'IsSystem': False, u'Name': u'Inactive', u'V...   \n",
              "\n",
              "                                             LSL 602  \\\n",
              "0  {u'IsSystem': False, u'Name': u'Inactive', u'V...   \n",
              "1  {u'IsSystem': False, u'Name': u'Inactive', u'V...   \n",
              "2  {u'IsSystem': False, u'Name': u'Inactive', u'V...   \n",
              "3  {u'IsSystem': False, u'Name': u'Inactive', u'V...   \n",
              "4  {u'IsSystem': False, u'Name': u'Inactive', u'V...   \n",
              "\n",
              "                                             LSL 603 P6 STATE P601 Status  \\\n",
              "0  {u'IsSystem': False, u'Name': u'Active', u'Val...        2           1   \n",
              "1  {u'IsSystem': False, u'Name': u'Active', u'Val...        2           1   \n",
              "2  {u'IsSystem': False, u'Name': u'Active', u'Val...        2           1   \n",
              "3  {u'IsSystem': False, u'Name': u'Active', u'Val...        2           1   \n",
              "4  {u'IsSystem': False, u'Name': u'Active', u'Val...        2           1   \n",
              "\n",
              "  P602 Status P603 Status  \n",
              "0           1           1  \n",
              "1           1           1  \n",
              "2           1           1  \n",
              "3           1           1  \n",
              "4           1           1  \n",
              "\n",
              "[5 rows x 80 columns]"
            ]
          },
          "execution_count": 5,
          "metadata": {},
          "output_type": "execute_result"
        }
      ],
      "source": [
        "# date_format = \"%Y-%m-%dT%H:%M:%S.%fZ\"\n",
        "full_df = df.drop([0])\n",
        "full_df = full_df.reset_index(drop=True)\n",
        "full_df = full_df.rename(columns={'GMT +0':'Date'})\n",
        "full_df['Attack'] = full_df['Attack'].fillna('benign')\n",
        "full_df['Label'] = full_df['Label'].fillna(0).astype(int)\n",
        "# full_df['Date'] = pd.to_datetime(full_df['Date'])\n",
        "full_df.to_csv('./data/SWaT.A3_dataset_Jul_19_labelled.csv')\n",
        "full_df.head()"
      ]
    },
    {
      "cell_type": "code",
      "execution_count": 6,
      "metadata": {},
      "outputs": [
        {
          "data": {
            "text/plain": [
              "<Axes: >"
            ]
          },
          "execution_count": 6,
          "metadata": {},
          "output_type": "execute_result"
        },
        {
          "data": {
            "image/png": "[encoded data removed]",
            "text/plain": [
              "<Figure size 640x480 with 1 Axes>"
            ]
          },
          "metadata": {},
          "output_type": "display_data"
        }
      ],
      "source": [
        "# affiche la colonne LIT 101\n",
        "full_df['LIT 101'].plot()"
      ]
    },
    {
      "cell_type": "code",
      "execution_count": 7,
      "metadata": {},
      "outputs": [
        {
          "name": "stdout",
          "output_type": "stream",
          "text": [
            "Possible labels: ['benign', 'Spoofing', 'Switch_ON', 'Switch_close', 'Switch_off']\n"
          ]
        }
      ],
      "source": [
        "# get unique labels\n",
        "labels = full_df['Attack'].unique()\n",
        "print(f'Possible labels: {list(labels)}')"
      ]
    },
    {
      "cell_type": "code",
      "execution_count": 8,
      "metadata": {},
      "outputs": [
        {
          "name": "stdout",
          "output_type": "stream",
          "text": [
            "Columns with only one unique value:\n",
            "P102 Status\n",
            "LS 201\n",
            "LS 202\n",
            "LSL 203\n",
            "LSLL 203\n",
            "P2_STATE\n",
            "P201 Status\n",
            "P202 Status\n",
            "P204 Status\n",
            "P206 Status\n",
            "P207 Status\n",
            "P208 Status\n",
            "P302 Status\n",
            "AIT 401\n",
            "LS 401\n",
            "P4_STATE\n",
            "P402 Status\n",
            "P403 Status\n",
            "P404 Status\n",
            "MV 502\n",
            "MV 503\n",
            "MV 504\n",
            "P5_STATE\n",
            "P501 Status\n",
            "P502 Status\n",
            "LSH 602\n",
            "LSH 603\n",
            "LSL 601\n",
            "LSL 602\n",
            "LSL 603\n",
            "P6 STATE\n",
            "P602 Status\n",
            "P603 Status\n"
          ]
        }
      ],
      "source": [
        "print('Columns with only one unique value:')\n",
        "for col in full_df.columns:\n",
        "    if (len(full_df[col].unique()) == 1):\n",
        "        print(col)\n",
        "\n"
      ]
    },
    {
      "cell_type": "markdown",
      "metadata": {},
      "source": [
        "Supprimons les colonnes qui contiennent une seule valeur, car elles ne sont pas utiles pour la classification.\n",
        "\n",
        "On en compte finalement 33.\n"
      ]
    },
    {
      "cell_type": "code",
      "execution_count": 9,
      "metadata": {},
      "outputs": [],
      "source": [
        "# on supprime les colonnes qui ont une seule valeur dans un nouveau dataframe\n",
        "df_cleaned = full_df.copy()\n",
        "for col in full_df.columns:\n",
        "    if len(full_df[col].unique()) == 1:\n",
        "        df_cleaned = df_cleaned.drop(columns=[col])"
      ]
    },
    {
      "cell_type": "code",
      "execution_count": 10,
      "metadata": {},
      "outputs": [
        {
          "name": "stdout",
          "output_type": "stream",
          "text": [
            "Number of features: 47\n",
            "Number of samples: 14996\n"
          ]
        }
      ],
      "source": [
        "print(f'Number of features: {len(df_cleaned.columns)}')\n",
        "print(f'Number of samples: {len(df_cleaned)}')"
      ]
    },
    {
      "cell_type": "code",
      "execution_count": 11,
      "metadata": {},
      "outputs": [
        {
          "data": {
            "text/html": [
              "<div>\n",
              "<style scoped>\n",
              "    .dataframe tbody tr th:only-of-type {\n",
              "        vertical-align: middle;\n",
              "    }\n",
              "\n",
              "    .dataframe tbody tr th {\n",
              "        vertical-align: top;\n",
              "    }\n",
              "\n",
              "    .dataframe thead th {\n",
              "        text-align: right;\n",
              "    }\n",
              "</style>\n",
              "<table border=\"1\" class=\"dataframe\">\n",
              "  <thead>\n",
              "    <tr style=\"text-align: right;\">\n",
              "      <th></th>\n",
              "      <th>Date</th>\n",
              "      <th>Attack</th>\n",
              "      <th>Label</th>\n",
              "      <th>FIT 101</th>\n",
              "      <th>LIT 101</th>\n",
              "      <th>MV 101</th>\n",
              "      <th>P1_STATE</th>\n",
              "      <th>P101 Status</th>\n",
              "      <th>AIT 201</th>\n",
              "      <th>AIT 202</th>\n",
              "      <th>...</th>\n",
              "      <th>FIT 502</th>\n",
              "      <th>FIT 503</th>\n",
              "      <th>FIT 504</th>\n",
              "      <th>MV 501</th>\n",
              "      <th>PIT 501</th>\n",
              "      <th>PIT 502</th>\n",
              "      <th>PIT 503</th>\n",
              "      <th>FIT 601</th>\n",
              "      <th>LSH 601</th>\n",
              "      <th>P601 Status</th>\n",
              "    </tr>\n",
              "  </thead>\n",
              "  <tbody>\n",
              "    <tr>\n",
              "      <th>0</th>\n",
              "      <td>2019-07-20T04:30:00Z</td>\n",
              "      <td>benign</td>\n",
              "      <td>0</td>\n",
              "      <td>0</td>\n",
              "      <td>729.8658</td>\n",
              "      <td>1</td>\n",
              "      <td>3</td>\n",
              "      <td>2</td>\n",
              "      <td>142.527557</td>\n",
              "      <td>9.293002</td>\n",
              "      <td>...</td>\n",
              "      <td>0.310362</td>\n",
              "      <td>0.623628</td>\n",
              "      <td>0.213432</td>\n",
              "      <td>2</td>\n",
              "      <td>167.601257</td>\n",
              "      <td>2.963509</td>\n",
              "      <td>119.921173</td>\n",
              "      <td>0.00032</td>\n",
              "      <td>{u'IsSystem': False, u'Name': u'Active', u'Val...</td>\n",
              "      <td>1</td>\n",
              "    </tr>\n",
              "    <tr>\n",
              "      <th>1</th>\n",
              "      <td>2019-07-20T04:30:01Z</td>\n",
              "      <td>benign</td>\n",
              "      <td>0</td>\n",
              "      <td>0</td>\n",
              "      <td>729.434</td>\n",
              "      <td>1</td>\n",
              "      <td>3</td>\n",
              "      <td>2</td>\n",
              "      <td>142.527557</td>\n",
              "      <td>9.293002</td>\n",
              "      <td>...</td>\n",
              "      <td>0.315102</td>\n",
              "      <td>0.623628</td>\n",
              "      <td>0.212984</td>\n",
              "      <td>2</td>\n",
              "      <td>167.601257</td>\n",
              "      <td>2.963509</td>\n",
              "      <td>119.921173</td>\n",
              "      <td>0.00032</td>\n",
              "      <td>{u'IsSystem': False, u'Name': u'Active', u'Val...</td>\n",
              "      <td>1</td>\n",
              "    </tr>\n",
              "    <tr>\n",
              "      <th>2</th>\n",
              "      <td>2019-07-20T04:30:02.004013Z</td>\n",
              "      <td>benign</td>\n",
              "      <td>0</td>\n",
              "      <td>0</td>\n",
              "      <td>729.12</td>\n",
              "      <td>1</td>\n",
              "      <td>3</td>\n",
              "      <td>2</td>\n",
              "      <td>142.527557</td>\n",
              "      <td>9.293002</td>\n",
              "      <td>...</td>\n",
              "      <td>0.317023</td>\n",
              "      <td>0.623628</td>\n",
              "      <td>0.212984</td>\n",
              "      <td>2</td>\n",
              "      <td>167.601257</td>\n",
              "      <td>2.963509</td>\n",
              "      <td>119.921173</td>\n",
              "      <td>0.00032</td>\n",
              "      <td>{u'IsSystem': False, u'Name': u'Active', u'Val...</td>\n",
              "      <td>1</td>\n",
              "    </tr>\n",
              "    <tr>\n",
              "      <th>3</th>\n",
              "      <td>2019-07-20T04:30:03.004013Z</td>\n",
              "      <td>benign</td>\n",
              "      <td>0</td>\n",
              "      <td>0</td>\n",
              "      <td>728.6882</td>\n",
              "      <td>1</td>\n",
              "      <td>3</td>\n",
              "      <td>2</td>\n",
              "      <td>142.527557</td>\n",
              "      <td>9.289157</td>\n",
              "      <td>...</td>\n",
              "      <td>0.308057</td>\n",
              "      <td>0.623628</td>\n",
              "      <td>0.212792</td>\n",
              "      <td>2</td>\n",
              "      <td>167.601257</td>\n",
              "      <td>2.963509</td>\n",
              "      <td>119.921173</td>\n",
              "      <td>0.00032</td>\n",
              "      <td>{u'IsSystem': False, u'Name': u'Active', u'Val...</td>\n",
              "      <td>1</td>\n",
              "    </tr>\n",
              "    <tr>\n",
              "      <th>4</th>\n",
              "      <td>2019-07-20T04:30:04Z</td>\n",
              "      <td>benign</td>\n",
              "      <td>0</td>\n",
              "      <td>0</td>\n",
              "      <td>727.7069</td>\n",
              "      <td>1</td>\n",
              "      <td>3</td>\n",
              "      <td>2</td>\n",
              "      <td>142.527557</td>\n",
              "      <td>9.289157</td>\n",
              "      <td>...</td>\n",
              "      <td>0.303446</td>\n",
              "      <td>0.623628</td>\n",
              "      <td>0.214009</td>\n",
              "      <td>2</td>\n",
              "      <td>167.601257</td>\n",
              "      <td>2.963509</td>\n",
              "      <td>119.921173</td>\n",
              "      <td>0.00032</td>\n",
              "      <td>{u'IsSystem': False, u'Name': u'Active', u'Val...</td>\n",
              "      <td>1</td>\n",
              "    </tr>\n",
              "  </tbody>\n",
              "</table>\n",
              "<p>5 rows × 47 columns</p>\n",
              "</div>"
            ],
            "text/plain": [
              "                          Date  Attack  Label FIT 101   LIT 101 MV 101  \\\n",
              "0         2019-07-20T04:30:00Z  benign      0       0  729.8658      1   \n",
              "1         2019-07-20T04:30:01Z  benign      0       0   729.434      1   \n",
              "2  2019-07-20T04:30:02.004013Z  benign      0       0    729.12      1   \n",
              "3  2019-07-20T04:30:03.004013Z  benign      0       0  728.6882      1   \n",
              "4         2019-07-20T04:30:04Z  benign      0       0  727.7069      1   \n",
              "\n",
              "  P1_STATE P101 Status     AIT 201   AIT 202  ...   FIT 502   FIT 503  \\\n",
              "0        3           2  142.527557  9.293002  ...  0.310362  0.623628   \n",
              "1        3           2  142.527557  9.293002  ...  0.315102  0.623628   \n",
              "2        3           2  142.527557  9.293002  ...  0.317023  0.623628   \n",
              "3        3           2  142.527557  9.289157  ...  0.308057  0.623628   \n",
              "4        3           2  142.527557  9.289157  ...  0.303446  0.623628   \n",
              "\n",
              "    FIT 504 MV 501     PIT 501   PIT 502     PIT 503  FIT 601  \\\n",
              "0  0.213432      2  167.601257  2.963509  119.921173  0.00032   \n",
              "1  0.212984      2  167.601257  2.963509  119.921173  0.00032   \n",
              "2  0.212984      2  167.601257  2.963509  119.921173  0.00032   \n",
              "3  0.212792      2  167.601257  2.963509  119.921173  0.00032   \n",
              "4  0.214009      2  167.601257  2.963509  119.921173  0.00032   \n",
              "\n",
              "                                             LSH 601 P601 Status  \n",
              "0  {u'IsSystem': False, u'Name': u'Active', u'Val...           1  \n",
              "1  {u'IsSystem': False, u'Name': u'Active', u'Val...           1  \n",
              "2  {u'IsSystem': False, u'Name': u'Active', u'Val...           1  \n",
              "3  {u'IsSystem': False, u'Name': u'Active', u'Val...           1  \n",
              "4  {u'IsSystem': False, u'Name': u'Active', u'Val...           1  \n",
              "\n",
              "[5 rows x 47 columns]"
            ]
          },
          "execution_count": 11,
          "metadata": {},
          "output_type": "execute_result"
        }
      ],
      "source": [
        "df_cleaned.to_csv('./data/SWaT.A3_dataset_Jul_19_labelled_cleaned.csv')\n",
        "df_cleaned.head()"
      ]
    },
    {
      "cell_type": "markdown",
      "metadata": {},
      "source": [
        "## LSTM Model and RMS-deviation"
      ]
    },
    {
      "cell_type": "code",
      "execution_count": 12,
      "metadata": {},
      "outputs": [
        {
          "name": "stderr",
          "output_type": "stream",
          "text": [
            "2023-11-08 16:00:20.219643: I tensorflow/tsl/cuda/cudart_stub.cc:28] Could not find cuda drivers on your machine, GPU will not be used.\n",
            "2023-11-08 16:00:20.350613: E tensorflow/compiler/xla/stream_executor/cuda/cuda_dnn.cc:9342] Unable to register cuDNN factory: Attempting to register factory for plugin cuDNN when one has already been registered\n",
            "2023-11-08 16:00:20.350651: E tensorflow/compiler/xla/stream_executor/cuda/cuda_fft.cc:609] Unable to register cuFFT factory: Attempting to register factory for plugin cuFFT when one has already been registered\n",
            "2023-11-08 16:00:20.351329: E tensorflow/compiler/xla/stream_executor/cuda/cuda_blas.cc:1518] Unable to register cuBLAS factory: Attempting to register factory for plugin cuBLAS when one has already been registered\n",
            "2023-11-08 16:00:20.411799: I tensorflow/tsl/cuda/cudart_stub.cc:28] Could not find cuda drivers on your machine, GPU will not be used.\n",
            "2023-11-08 16:00:20.412877: I tensorflow/core/platform/cpu_feature_guard.cc:182] This TensorFlow binary is optimized to use available CPU instructions in performance-critical operations.\n",
            "To enable the following instructions: AVX2 FMA, in other operations, rebuild TensorFlow with the appropriate compiler flags.\n",
            "2023-11-08 16:00:21.532664: W tensorflow/compiler/tf2tensorrt/utils/py_utils.cc:38] TF-TRT Warning: Could not find TensorRT\n"
          ]
        }
      ],
      "source": [
        "import tensorflow as tf\n",
        "from tensorflow.keras.models import Sequential\n",
        "from tensorflow.keras.layers import LSTM, Dense\n",
        "from sklearn.preprocessing import MinMaxScaler\n",
        "from sklearn.model_selection import train_test_split"
      ]
    },
    {
      "cell_type": "markdown",
      "metadata": {},
      "source": [
        "### Data preparation\n",
        "\n",
        "Our LSTM must take a specific shape of data. We need to reshape our data in order to fit the model.\n",
        "\n",
        "Here our dataset has a shape of (14996,49). We know that the LSTM works better with 200-400 time steps per sample. We will use 300 time steps per sample.\n",
        "\n",
        "15 000 / 60 = 250 samples\n",
        "\n",
        "Let's have 49 samples with 300 time steps each and the last one with 296 time steps.\n",
        "\n",
        "n_samples = 250\n",
        "time_steps = 60\n",
        "features = 49"
      ]
    },
    {
      "cell_type": "code",
      "execution_count": 13,
      "metadata": {},
      "outputs": [],
      "source": [
        "is_float = lambda x: isinstance(x, float)\n",
        "for col in df_cleaned.columns:\n",
        "  if col == 'Date':\n",
        "    continue\n",
        "\n",
        "  if df_cleaned[col].apply(pd.to_numeric, errors='coerce').notna().all():\n",
        "    df_cleaned[col] = df_cleaned[col].apply(pd.to_numeric, errors='coerce')"
      ]
    },
    {
      "cell_type": "code",
      "execution_count": 14,
      "metadata": {},
      "outputs": [],
      "source": [
        "# format the data for LSTM like this [samples, time steps, features]\n",
        "features = df_cleaned.drop(['Date', 'Attack', 'Label', \"LSH 601\"], axis=1)\n",
        "labels = df_cleaned['Label']\n",
        "\n",
        "# Normalisation\n",
        "scaler = MinMaxScaler()\n",
        "features_scaled = scaler.fit_transform(features)"
      ]
    },
    {
      "cell_type": "code",
      "execution_count": 15,
      "metadata": {},
      "outputs": [
        {
          "data": {
            "image/png": "[encoded data removed]",
            "text/plain": [
              "<Figure size 1300x500 with 1 Axes>"
            ]
          },
          "metadata": {},
          "output_type": "display_data"
        }
      ],
      "source": [
        "# plot labels\n",
        "plt.figure(figsize=(13, 5))\n",
        "plt.plot(labels)\n",
        "plt.xlabel('Time')\n",
        "plt.yticks([0, 1], ['Benign', 'Attack'])\n",
        "plt.title(\"Distribution of attacks\")\n",
        "\n",
        "plt.savefig('./figures/attacks_distribution.png')"
      ]
    },
    {
      "cell_type": "markdown",
      "metadata": {},
      "source": [
        "Afin d'implémenter un LSTM il faut générer le dataset issue de nos série temporelles. Le but sera d'extraire plusieurs séquences d'une taille de séquence définie et de lui affecter un label. Si une séquence contient une valeur  `Label` à 1 alors toute la séquence est labellisée comme étant à 1."
      ]
    },
    {
      "cell_type": "markdown",
      "metadata": {},
      "source": [
        "### LSTM avec fenetres glissantes seq2one\n"
      ]
    },
    {
      "cell_type": "code",
      "execution_count": 16,
      "metadata": {},
      "outputs": [
        {
          "name": "stdout",
          "output_type": "stream",
          "text": [
            "X_hist shape: (14636, 180, 43)\n",
            "X_fut shape: (14636, 43)\n"
          ]
        }
      ],
      "source": [
        "len_sequence = 180\n",
        "len_start = len_sequence\n",
        "len_end = len(labels) - len_sequence\n",
        "\n",
        "X_hist, X_fut, y = [], [], []\n",
        "for i in range(len_start, len_end):\n",
        "    X_hist.append(features_scaled[i:i+len_sequence])\n",
        "    X_fut.append(features_scaled[i+len_sequence])\n",
        "    y.append(labels[i+len_sequence])\n",
        "\n",
        "    \n",
        "X_hist = np.array(X_hist)\n",
        "X_fut = np.array(X_fut)\n",
        "y = np.array(y)\n",
        "\n",
        "print(f'X_hist shape: {X_hist.shape}')\n",
        "print(f'X_fut shape: {X_fut.shape}')\n"
      ]
    },
    {
      "cell_type": "code",
      "execution_count": 17,
      "metadata": {},
      "outputs": [
        {
          "data": {
            "text/plain": [
              "9056"
            ]
          },
          "execution_count": 17,
          "metadata": {},
          "output_type": "execute_result"
        }
      ],
      "source": [
        "np.where(y == 1)[0][0]"
      ]
    },
    {
      "cell_type": "code",
      "execution_count": 18,
      "metadata": {},
      "outputs": [],
      "source": [
        "# keep 80% of the data for training and 20% for testing\n",
        "# n_train = int(X_hist.shape[0] * 0.8)\n",
        "\n",
        "# On entraine le modèle sur les données avant l'attaque\n",
        "n_train = np.where(y == 1)[0][0] - 1\n",
        "\n",
        "\n",
        "X_hist_train, X_hist_test = X_hist[:n_train], X_hist[n_train:]\n",
        "X_fut_train, X_fut_test = X_fut[:n_train], X_fut[n_train:]\n",
        "y_train, y_test = y[:n_train], y[n_train:]\n",
        "\n",
        "#shuffle data\n",
        "shuffle_idx = np.random.permutation(n_train)\n",
        "X_hist_train, X_fut_train = X_hist_train[shuffle_idx], X_fut_train[shuffle_idx]"
      ]
    },
    {
      "cell_type": "code",
      "execution_count": 19,
      "metadata": {},
      "outputs": [
        {
          "name": "stdout",
          "output_type": "stream",
          "text": [
            "Nombre de séquences d'entraînement: 9055\n",
            "Fenêtre de temps: 180\n",
            "Nombre de séquences de test: 5581\n"
          ]
        }
      ],
      "source": [
        "print(f'Nombre de séquences d\\'entraînement: {X_hist_train.shape[0]}')\n",
        "print(f'Fenêtre de temps: {X_hist_train.shape[1]}')\n",
        "print(f'Nombre de séquences de test: {X_hist_test.shape[0]}')"
      ]
    },
    {
      "cell_type": "code",
      "execution_count": 20,
      "metadata": {},
      "outputs": [
        {
          "data": {
            "text/plain": [
              "array([0, 0, 0, ..., 0, 0, 0])"
            ]
          },
          "execution_count": 20,
          "metadata": {},
          "output_type": "execute_result"
        }
      ],
      "source": [
        "y_train"
      ]
    },
    {
      "cell_type": "code",
      "execution_count": 21,
      "metadata": {},
      "outputs": [
        {
          "data": {
            "image/png": "[encoded data removed]",
            "text/plain": [
              "<Figure size 640x480 with 1 Axes>"
            ]
          },
          "metadata": {},
          "output_type": "display_data"
        }
      ],
      "source": [
        "# plt.hist(y_train, bins=2, color='blue', alpha=0.5, label='Train')\n",
        "# plt.hist(y_test, bins=2, color='red', alpha=0.5, label='Test')\n",
        "\n",
        "plt.bar([0, 1], [len(y_train[y_train == 0]), len(y_train[y_train == 1])], color='blue', alpha=0.5, label='Train')\n",
        "plt.bar([3, 4], [len(y_test[y_test == 0]), len(y_test[y_test == 1])], color='red', alpha=0.5, label='Test')\n",
        "plt.title('Distribution des classes')\n",
        "plt.xlabel('Classe')\n",
        "plt.ylabel('Nombre de séquences')\n",
        "plt.xticks([0, 1, 3, 4], ['Benign', 'Attack', 'Benign', 'Attack'])\n",
        "plt.legend()\n",
        "\n",
        "plt.savefig('./figures/Distribution.png', dpi=300)"
      ]
    },
    {
      "cell_type": "code",
      "execution_count": 22,
      "metadata": {},
      "outputs": [
        {
          "name": "stdout",
          "output_type": "stream",
          "text": [
            "Model: \"sequential\"\n",
            "_________________________________________________________________\n",
            " Layer (type)                Output Shape              Param #   \n",
            "=================================================================\n",
            " lstm (LSTM)                 (None, 180, 64)           27648     \n",
            "                                                                 \n",
            " dropout (Dropout)           (None, 180, 64)           0         \n",
            "                                                                 \n",
            " lstm_1 (LSTM)               (None, 64)                33024     \n",
            "                                                                 \n",
            " dropout_1 (Dropout)         (None, 64)                0         \n",
            "                                                                 \n",
            " dense (Dense)               (None, 43)                2795      \n",
            "                                                                 \n",
            "=================================================================\n",
            "Total params: 63467 (247.92 KB)\n",
            "Trainable params: 63467 (247.92 KB)\n",
            "Non-trainable params: 0 (0.00 Byte)\n",
            "_________________________________________________________________\n"
          ]
        }
      ],
      "source": [
        "from tensorflow.keras.layers import LSTM, RepeatVector, Dropout, Dense\n",
        "\n",
        "def build_model(nb_neurons, len_sequence, nb_features):\n",
        "    model = tf.keras.Sequential([\n",
        "        LSTM(nb_neurons, input_shape=(len_sequence, nb_features), return_sequences=True),\n",
        "        Dropout(0.2),\n",
        "        LSTM(nb_neurons, return_sequences=False),\n",
        "        Dropout(0.2),\n",
        "        Dense(nb_features, activation='sigmoid')\n",
        "    ])\n",
        "\n",
        "    return model\n",
        "\n",
        "nb_features = X_hist_train.shape[2]\n",
        "\n",
        "model = build_model(nb_neurons=64,\n",
        "                    len_sequence=len_sequence,\n",
        "                    nb_features=nb_features)\n",
        "model.summary() "
      ]
    },
    {
      "cell_type": "code",
      "execution_count": 23,
      "metadata": {},
      "outputs": [
        {
          "name": "stdout",
          "output_type": "stream",
          "text": [
            "Epoch 1/10\n"
          ]
        },
        {
          "name": "stderr",
          "output_type": "stream",
          "text": [
            "2023-11-08 16:00:29.393507: W tensorflow/tsl/framework/cpu_allocator_impl.cc:83] Allocation of 224274240 exceeds 10% of free system memory.\n"
          ]
        },
        {
          "name": "stdout",
          "output_type": "stream",
          "text": [
            "114/114 [==============================] - ETA: 0s - loss: 0.0389 - r2_score: -21703.9238 - mean_squared_error: 0.0389"
          ]
        },
        {
          "name": "stderr",
          "output_type": "stream",
          "text": [
            "2023-11-08 16:00:48.013799: W tensorflow/tsl/framework/cpu_allocator_impl.cc:83] Allocation of 56068560 exceeds 10% of free system memory.\n"
          ]
        },
        {
          "name": "stdout",
          "output_type": "stream",
          "text": [
            "114/114 [==============================] - 20s 146ms/step - loss: 0.0389 - r2_score: -21703.9238 - mean_squared_error: 0.0389 - val_loss: 0.0096 - val_r2_score: -1468.3750 - val_mean_squared_error: 0.0096\n",
            "Epoch 2/10\n",
            "114/114 [==============================] - 16s 144ms/step - loss: 0.0104 - r2_score: -1965.3776 - mean_squared_error: 0.0104 - val_loss: 0.0047 - val_r2_score: -908.7587 - val_mean_squared_error: 0.0047\n",
            "Epoch 3/10\n",
            "114/114 [==============================] - 17s 152ms/step - loss: 0.0066 - r2_score: -1096.9359 - mean_squared_error: 0.0066 - val_loss: 0.0038 - val_r2_score: -417.2857 - val_mean_squared_error: 0.0038\n",
            "Epoch 4/10\n",
            "114/114 [==============================] - 18s 159ms/step - loss: 0.0051 - r2_score: -687.2983 - mean_squared_error: 0.0051 - val_loss: 0.0026 - val_r2_score: -286.2662 - val_mean_squared_error: 0.0026\n",
            "Epoch 5/10\n",
            "114/114 [==============================] - 22s 190ms/step - loss: 0.0041 - r2_score: -500.6085 - mean_squared_error: 0.0041 - val_loss: 0.0022 - val_r2_score: -201.4190 - val_mean_squared_error: 0.0022\n",
            "Epoch 6/10\n",
            "114/114 [==============================] - 17s 151ms/step - loss: 0.0034 - r2_score: -364.5029 - mean_squared_error: 0.0034 - val_loss: 0.0018 - val_r2_score: -157.0146 - val_mean_squared_error: 0.0018\n",
            "Epoch 7/10\n",
            "114/114 [==============================] - 17s 148ms/step - loss: 0.0029 - r2_score: -283.9097 - mean_squared_error: 0.0029 - val_loss: 0.0016 - val_r2_score: -105.7963 - val_mean_squared_error: 0.0016\n",
            "Epoch 8/10\n",
            "114/114 [==============================] - 17s 147ms/step - loss: 0.0027 - r2_score: -219.4231 - mean_squared_error: 0.0027 - val_loss: 0.0015 - val_r2_score: -94.0529 - val_mean_squared_error: 0.0015\n",
            "Epoch 9/10\n",
            "114/114 [==============================] - 22s 194ms/step - loss: 0.0025 - r2_score: -182.1920 - mean_squared_error: 0.0025 - val_loss: 0.0015 - val_r2_score: -73.8686 - val_mean_squared_error: 0.0015\n",
            "Epoch 10/10\n",
            "114/114 [==============================] - ETA: 0s - loss: 0.0023 - r2_score: -150.4807 - mean_squared_error: 0.0023"
          ]
        }
      ],
      "source": [
        "optimizer = tf.keras.optimizers.Adam(learning_rate=0.001)\n",
        "loss = tf.keras.losses.mean_squared_error\n",
        "r2 = tf.keras.metrics.R2Score()\n",
        "mse = tf.keras.metrics.MeanSquaredError()\n",
        "metrics = [r2, mse]\n",
        "\n",
        "\n",
        "model.compile(optimizer=optimizer, loss=loss, metrics=metrics)\n",
        "\n",
        "\n",
        "history = model.fit(x=X_hist_train,\n",
        "                    y=X_fut_train,\n",
        "                    validation_split=0.2,\n",
        "                    epochs=10,\n",
        "                    batch_size=64,\n",
        "                    verbose=\"auto\")\n"
      ]
    },
    {
      "cell_type": "code",
      "execution_count": null,
      "metadata": {},
      "outputs": [],
      "source": [
        "def plot_history(history):\n",
        "    plt.figure(figsize=(13, 5))\n",
        "    plt.plot(history.history['loss'], label='Train')\n",
        "    plt.plot(history.history['val_loss'], label='Validation')\n",
        "    plt.xlabel('Epochs')\n",
        "    plt.ylabel('Loss MSE')\n",
        "    plt.legend()\n",
        "\n",
        "plot_history(history)\n",
        "plt.savefig('./figures/history.png')"
      ]
    },
    {
      "cell_type": "code",
      "execution_count": null,
      "metadata": {},
      "outputs": [],
      "source": [
        "def RMS_deviation(predicted, X_fut_test):\n",
        "    rms = np.sqrt(np.mean(np.power((predicted - X_fut_test), 2), axis=1))\n",
        "    return rms\n",
        "\n",
        "dict_df = {col:i for i, col in enumerate(features.columns)}\n",
        "predicted = model.predict(X_hist_test)\n",
        "rms = RMS_deviation(predicted, X_fut_test)\n"
      ]
    },
    {
      "cell_type": "code",
      "execution_count": null,
      "metadata": {},
      "outputs": [],
      "source": [
        "def rms_feature(rms, feature_name):\n",
        "    feature = dict_df[feature_name]\n",
        "    power = np.power((predicted[:, feature] - X_fut_test[:, feature]), 2)\n",
        "    rms = np.sqrt(power)\n",
        "    return rms\n",
        "\n",
        "\n",
        "rms_lit = rms_feature(rms, 'LIT 101')\n",
        "def plot_history_feature(feature_name):\n",
        "    plt.plot(predicted[:, dict_df[feature_name]], label='Predicted')\n",
        "    plt.plot(X_fut_test[:, dict_df[feature_name]], label='True')\n",
        "    # plt.plot(rms_lit, label='RMS')\n",
        "    plt.title(\"RMS for LIT 101\")\n",
        "    plt.xlabel('Time')\n",
        "    plt.ylabel('Value')\n",
        "    plt.legend()\n",
        "\n",
        "plt.figure(figsize=(13, 10))\n",
        "plt.subplot(2, 2, 1)\n",
        "plot_history_feature('LIT 101')\n",
        "plt.subplot(2, 2, 2)\n",
        "plot_history_feature('AIT 301')\n",
        "plt.subplot(2, 2, 3)\n",
        "plot_history_feature('AIT 302')\n",
        "plt.suptitle('Few examples Predicted vs True')"
      ]
    },
    {
      "cell_type": "code",
      "execution_count": null,
      "metadata": {},
      "outputs": [],
      "source": [
        "attack = df_cleaned[\"Attack\"][n_train+len_start*2:].reset_index(drop=True)\n",
        "attacks = attack.unique()\n",
        "attacks"
      ]
    },
    {
      "cell_type": "code",
      "execution_count": null,
      "metadata": {},
      "outputs": [],
      "source": [
        "threshold = 0.17\n",
        "\n",
        "plt.figure(figsize=(13, 5))\n",
        "plt.plot(rms, label='RMS')\n",
        "# plt.scatter(np.where(y_test == 1), y_test[y_test == 1], color='red', label='Attack', s=5)\n",
        "for i in range(1, len(attacks)):\n",
        "    bool1 = attack == attacks[i]\n",
        "    idx = attack[bool1].index\n",
        "    plt.scatter(idx, np.ones(shape=len(idx)), label=attacks[i], s=5)\n",
        "    \n",
        "plt.fill_between(np.arange(len(rms)), rms, 0, where=(rms > threshold), facecolor='orange', alpha=0.3, label='RMS > Threshold')\n",
        "plt.fill_between(np.arange(len(rms)), rms, 1.1, where=(rms > threshold), facecolor='orange', alpha=0.3)\n",
        "plt.xlabel('Time')\n",
        "plt.ylabel('RMS')\n",
        "plt.title('Detection of anomalies with RMS')\n",
        "plt.legend()\n",
        "\n",
        "plt.savefig('./figures/Detection of anomalies with RMS.png')\n",
        "\n"
      ]
    },
    {
      "cell_type": "code",
      "execution_count": null,
      "metadata": {},
      "outputs": [],
      "source": [
        "# Metrics\n",
        "tp = np.where((rms >= threshold) & (y_test == 1))[0]\n",
        "fp = np.where((rms >= threshold) & (y_test == 0))[0]\n",
        "tn = np.where((rms < threshold) & (y_test == 0))[0]\n",
        "fn = np.where((rms < threshold) & (y_test == 1))[0]\n",
        "\n",
        "\n",
        "recall = len(tp) / (len(tp) + len(fn))\n",
        "precision = len(tp) / (len(tp) + len(fp))\n",
        "f1 = 2 * (precision * recall) / (precision + recall)\n",
        "\n",
        "\n",
        "print(f'Recall: {recall}')\n",
        "print(f'Precision: {precision}')\n",
        "print(f'F1 score: {f1}')\n"
      ]
    },
    {
      "cell_type": "code",
      "execution_count": null,
      "metadata": {},
      "outputs": [],
      "source": [
        "# save model\n",
        "#model.save('./data/lstm.h5')"
      ]
    }
  ],
  "metadata": {
    "colab": {
      "authorship_tag": "ABX9TyP8JWcD03jkl5wGOLoLnCJP",
      "include_colab_link": true,
      "mount_file_id": "https://github.com/Bast-94/CYBERML-Project/blob/data-set/cyber-ml.ipynb",
      "provenance": []
    },
    "kernelspec": {
      "display_name": "Python 3",
      "name": "python3"
    },
    "language_info": {
      "codemirror_mode": {
        "name": "ipython",
        "version": 3
      },
      "file_extension": ".py",
      "mimetype": "text/x-python",
      "name": "python",
      "nbconvert_exporter": "python",
      "pygments_lexer": "ipython3",
      "version": "3.9.18"
    }
  },
  "nbformat": 4,
  "nbformat_minor": 0
}
